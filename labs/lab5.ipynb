{
  "cells": [
    {
      "cell_type": "markdown",
      "metadata": {
        "id": "VxaJCKl7Cb_Y"
      },
      "source": [
        "# Laboratório 5\n",
        "\n",
        "Avaliação de classificação supervisionada de imagens no GEE\n"
      ]
    },
    {
      "cell_type": "markdown",
      "metadata": {
        "id": "wnm9aGHMCb_b"
      },
      "source": [
        "Objetivos:\n",
        "\n",
        "1. Divisão de amostras para avaliação de classificação\n",
        "2. Classificação supervisionada\n",
        "3. Seleção de modelo\n"
      ]
    },
    {
      "cell_type": "code",
      "execution_count": null,
      "metadata": {
        "id": "ch8d5VuyCb_c"
      },
      "outputs": [],
      "source": [
        "import random\n",
        "\n",
        "import ee\n",
        "\n",
        "\n",
        "import geemap"
      ]
    },
    {
      "cell_type": "code",
      "execution_count": null,
      "metadata": {
        "id": "kv0O0ikfCb_d"
      },
      "outputs": [],
      "source": [
        "# Ref: https://developers.google.com/earth-engine/apidocs/ee-authenticate\n",
        "# Para inicializar a sessão para execução insira o id do projeto em ee.Initialize().\n",
        "ee.Authenticate()\n",
        "ee.Initialize(project='id_projeto')"
      ]
    },
    {
      "cell_type": "markdown",
      "metadata": {
        "id": "EFasJoE6Cb_e"
      },
      "source": [
        "## Preparação dos dados\n"
      ]
    },
    {
      "cell_type": "markdown",
      "metadata": {
        "id": "a7-gd0vECb_e"
      },
      "source": [
        "Primeiro definimos uma região de interesse, que pode convenientemente ser a\n",
        "mesma área do laboratório anterior, o que facilitará bastante o desenvolvimento\n",
        "deste laboratório.\n"
      ]
    },
    {
      "cell_type": "code",
      "execution_count": null,
      "metadata": {
        "id": "w0qqT1eFCb_f"
      },
      "outputs": [],
      "source": [
        "# roi: região de interesse\n",
        "roi = ee.Geometry.BBox(\n",
        "    west=-46.88655, south=-23.6906, east=-46.611642, north=-23.590958\n",
        ")\n",
        "roi"
      ]
    },
    {
      "cell_type": "markdown",
      "metadata": {
        "id": "MivaHDRsCb_f"
      },
      "source": [
        "Vamos realizar algumas operações idênticas ao laboratório anterior, para\n",
        "carregar a imagem do `Sentinel-2` e preparar os dados para o laboratório.\n"
      ]
    },
    {
      "cell_type": "markdown",
      "metadata": {
        "id": "jWWLkrzuCb_g"
      },
      "source": [
        "Para começar, vamos definir algumas variáveis globais que serão utilizadas ao\n",
        "longo do laboratório.\n"
      ]
    },
    {
      "cell_type": "code",
      "execution_count": null,
      "metadata": {
        "id": "BmiPZPodCb_g"
      },
      "outputs": [],
      "source": [
        "escala = 10  # resolução espacial, em metros\n",
        "limite_nuvens = 10  # limite de cobertura de nuvens, em porcentagem\n",
        "dataset = ee.ImageCollection(\"COPERNICUS/S2_SR_HARMONIZED\")  # dataset original\n",
        "sao_paulo = ee.Geometry.Point([-46.6333, -23.5500])  # um ponto qualquer em São Paulo\n",
        "data_inicio = \"2019-01-01\"\n",
        "data_fim = \"2023-01-01\"\n",
        "banda_infra_vermelho = \"B8\"  # banda do infravermelho próximo (NIR)\n",
        "banda_vermelho = \"B4\"  # banda do vermelho"
      ]
    },
    {
      "cell_type": "markdown",
      "metadata": {
        "id": "-L3cMspXCb_h"
      },
      "source": [
        "Agora definimos algumas funções relevantes para o pré-processamento dos dados.\n"
      ]
    },
    {
      "cell_type": "code",
      "execution_count": null,
      "metadata": {
        "id": "Ajto9Or8Cb_h"
      },
      "outputs": [],
      "source": [
        "def recorta(img: ee.Image) -> ee.Image:\n",
        "    \"\"\"Função para recortar parte da img na região desejada. Assume que já\n",
        "    existe uma variável roi definida.\"\"\"\n",
        "    return img.clip(roi)\n",
        "\n",
        "\n",
        "def remove_nuvens(img: ee.Image) -> ee.Image:\n",
        "    \"\"\"Função para remover nuvens de uma img. Só funciona para o Sentinel-2.\"\"\"\n",
        "    return (\n",
        "        img.updateMask(img.select(\"MSK_CLDPRB\").lt(limite_nuvens))\n",
        "        .updateMask(img.select(\"SCL\").neq(3))\n",
        "        .updateMask(img.select(\"SCL\").neq(7))\n",
        "        .updateMask(img.select(\"SCL\").neq(8))\n",
        "        .updateMask(img.select(\"SCL\").neq(9))\n",
        "        .updateMask(img.select(\"SCL\").neq(10))\n",
        "    )\n",
        "\n",
        "\n",
        "def remove_valores_invalidos(img: ee.Image) -> ee.Image:\n",
        "    \"\"\"Função para remoção de valores inválidos. Funciona somente para o\n",
        "    Sentinel-2.\"\"\"\n",
        "    return (\n",
        "        img.updateMask(img.select(\"B2\").lt(10000))\n",
        "        .updateMask(img.select(\"B3\").lt(10000))\n",
        "        .updateMask(img.select(\"B4\").lt(10000))\n",
        "        .updateMask(img.select(\"B8\").lt(10000))\n",
        "    )"
      ]
    },
    {
      "cell_type": "markdown",
      "metadata": {
        "id": "EihJIsCVCb_i"
      },
      "source": [
        "Agora executamos o pré-processamento dos dados, igual fizemos no laboratório\n",
        "anterior.\n"
      ]
    },
    {
      "cell_type": "code",
      "execution_count": null,
      "metadata": {
        "id": "MYx1cGnuCb_i"
      },
      "outputs": [],
      "source": [
        "# Filtra o dataset para a região, datas e bandas de interesse.\n",
        "dataset = (\n",
        "    dataset.filterBounds(sao_paulo)\n",
        "    .filterMetadata(\"CLOUDY_PIXEL_PERCENTAGE\", \"less_than\", limite_nuvens)\n",
        "    .filterDate(data_inicio, data_fim)\n",
        "    .select([\"B2\", \"B3\", \"B4\", \"B8\", \"MSK_CLDPRB\", \"SCL\"])\n",
        ")\n",
        "\n",
        "# Recorta o dataset para a região de interesse.\n",
        "dataset_clipped = dataset.map(recorta)\n",
        "\n",
        "# Remove as nuvens do dataset.\n",
        "dataset_sem_nuvens = dataset_clipped.map(remove_nuvens)\n",
        "\n",
        "# Remove valores inválidos na coleção.\n",
        "dataset_sem_nuvens = dataset_sem_nuvens.map(remove_valores_invalidos)\n",
        "dataset_sem_nuvens"
      ]
    },
    {
      "cell_type": "markdown",
      "metadata": {
        "id": "O0vq9k7ACb_j"
      },
      "source": [
        "Até aqui apenas editamos o dataset, vamos então criar uma `ee.Image` a partir dele, tal qual fizemos no laboratório anterior.\n"
      ]
    },
    {
      "cell_type": "code",
      "execution_count": null,
      "metadata": {
        "id": "C7hkI6b0Cb_j"
      },
      "outputs": [],
      "source": [
        "# Cria o mosaico a partir da coleção.\n",
        "imagem = dataset_sem_nuvens.mosaic()\n",
        "\n",
        "# Cria a composição a partir da coleção.\n",
        "imagem = dataset_sem_nuvens.mean()\n",
        "\n",
        "# Ajuste nos valores de reflectância das imagens.\n",
        "imagem = imagem.multiply(0.0001)\n",
        "\n",
        "# Extrai bandas do vermelho e do infravermelho próximo\n",
        "imagem_banda_nir = imagem.select(banda_infra_vermelho)\n",
        "imagem_banda_vermelho = imagem.select(banda_vermelho)\n",
        "\n",
        "# Calcula o NDVI\n",
        "imagem = imagem.addBands(\n",
        "    imagem_banda_nir.subtract(imagem_banda_vermelho)\n",
        "    .divide(imagem_banda_nir.add(imagem_banda_vermelho))\n",
        "    .rename(\"NDVI\"),\n",
        "    [\"NDVI\"],\n",
        ")\n",
        "\n",
        "# Ajuste nos valores de reflectância das imagens.\n",
        "# imagem = imagem.multiply(0.0001)  # TODO: por que tem que multiplicar 2 vezes?\n",
        "\n",
        "# Seleciona as bandas de interesse.\n",
        "imagem = imagem.select(ee.List([\"B2\", \"B3\", \"B4\", \"B8\", \"NDVI\"]))\n",
        "imagem"
      ]
    },
    {
      "cell_type": "markdown",
      "metadata": {
        "id": "xlGfLOW4Cb_k"
      },
      "source": [
        "Vamos utilizar os resultados do laboratório anterior para treinar e avaliar um\n",
        "modelo de classificação supervisionada.\n",
        "Para isso, vamos precisar do arquivo shapefile coletado ao final do laboratório\n",
        "anterior.\n",
        "Se você não tiver o arquivo `samples.shp` no seu drive, copie-o do diretório\n",
        "`data` do repositório do curso no GitHub.\n",
        "\n",
        "O módulo `geopandas` é necessário para ler o arquivo shapefile. Execute a célula\n",
        "abaixo para instalar o módulo, caso necessário.\n"
      ]
    },
    {
      "cell_type": "code",
      "execution_count": null,
      "metadata": {
        "id": "3wGB83z7Cb_k"
      },
      "outputs": [],
      "source": [
        "# %pip install geopandas"
      ]
    },
    {
      "cell_type": "code",
      "execution_count": null,
      "metadata": {
        "id": "sPiqwixLCb_l"
      },
      "outputs": [],
      "source": [
        "# TODO: usar um link pro github, colocar caminho absoluto.\n",
        "amostras_completas = geemap.shp_to_ee(\"../data/samples_lab4/samples_lab4.shp\")\n",
        "amostras_completas"
      ]
    },
    {
      "cell_type": "code",
      "execution_count": null,
      "metadata": {
        "id": "bUjOz0PmCb_l"
      },
      "outputs": [],
      "source": [
        "amostras_agua = amostras_completas.filterMetadata(\"classe\", \"equals\", 0)\n",
        "amostras_veget_baixa = amostras_completas.filterMetadata(\"classe\", \"equals\", 1)\n",
        "amostras_veget_alta = amostras_completas.filterMetadata(\"classe\", \"equals\", 2)\n",
        "amostras_construcoes = amostras_completas.filterMetadata(\"classe\", \"equals\", 3)\n",
        "amostras_solo = amostras_completas.filterMetadata(\"classe\", \"equals\", 4)"
      ]
    },
    {
      "cell_type": "markdown",
      "metadata": {
        "id": "QGUQwlTvCb_l"
      },
      "source": [
        "Utilizamos o método `sampleRegions` para extrair amostras de pixels da imagem\n",
        "para cada polígono do shapefile.\n",
        "\n",
        "Aqui é importante que as `amostras` estejam contidas no mesmo lugar geométrico da\n",
        "`imagem`.\n"
      ]
    },
    {
      "cell_type": "code",
      "execution_count": null,
      "metadata": {
        "id": "HBt7byfnCb_m"
      },
      "outputs": [],
      "source": [
        "# amostras_selecionadas = imagem.sampleRegions(\n",
        "#     collection=amostras_completas, properties=[\"classe\"], scale=escala\n",
        "# )"
      ]
    },
    {
      "cell_type": "code",
      "execution_count": null,
      "metadata": {
        "id": "NzSszqRaCb_m"
      },
      "outputs": [],
      "source": [
        "# amostras_selecionadas"
      ]
    },
    {
      "cell_type": "markdown",
      "metadata": {
        "id": "wl6iO9dUCb_n"
      },
      "source": [
        "## Classificação supervisionada\n"
      ]
    },
    {
      "cell_type": "markdown",
      "metadata": {
        "id": "JnBbQ-WCCb_n"
      },
      "source": [
        "A partir do passo da coleta das amostras vamos prosseguir com algumas opções mais avançadas.\n",
        "Veremos alguns métodos alternativos de seleção de pixels para treinamento e teste.\n"
      ]
    },
    {
      "cell_type": "markdown",
      "metadata": {
        "id": "qGMaN6OVCb_n"
      },
      "source": [
        "### Amostras com tamanho pré-definido\n"
      ]
    },
    {
      "cell_type": "markdown",
      "metadata": {
        "id": "JzHrtsCxCb_o"
      },
      "source": [
        "Começaremos com a segunda opção de amostragem, pegando um número limitado de pixels por classe.\n",
        "\n",
        "Para prevenir sobrecarga no GEE, vamos limitar o tamanho das amostras por classe usando a função `sample()` em cada `ee.FeatureCollection` do dicionário `amostras_dict`.\n",
        "\n",
        "A `sample()` é uma função que automatiza a amostragem de pixels numa região, iniciando com uma semente aleatória.\n"
      ]
    },
    {
      "cell_type": "code",
      "execution_count": null,
      "metadata": {
        "id": "P1Lk5zcpCb_o"
      },
      "outputs": [],
      "source": [
        "def coleta_pixels_amostra(regiao_amostra: ee.Geometry) -> ee.FeatureCollection:\n",
        "    \"\"\"Realiza uma amostragem limitada de pixels dentro das regiões de uma\n",
        "    FeatureCollection.\"\"\"\n",
        "    # Gera uma semente aleatória para a amostragem\n",
        "    semente = ee.Number(random.random()).multiply(10000).toLong()\n",
        "\n",
        "    # Amostra a imagem dentro da região dada\n",
        "    sample = imagem.sample(\n",
        "        region=ee.FeatureCollection(regiao_amostra),\n",
        "        dropNulls=True,  # Descarta quaisquer amostras com valores nulos\n",
        "        seed=semente,  # Usa a semente gerada para amostragem aleatória\n",
        "        scale=escala,  # A escala na qual a amostragem deve ser feita\n",
        "        numPixels=200,  # O número de pixels para coletar\n",
        "        geometries=False,  # Falso para economizar tempo de processamento\n",
        "    )\n",
        "\n",
        "    # Recupera o número da classe da primeira feição na coleção\n",
        "    numero_classe = ee.FeatureCollection(regiao_amostra).first().get(\"classe\")\n",
        "\n",
        "    # Mapeia sobre a amostra, definindo o número da classe para cada feição\n",
        "    return sample.map(lambda feature: feature.set({\"classe\": numero_classe}))"
      ]
    },
    {
      "cell_type": "markdown",
      "metadata": {
        "id": "b7_Cf-CJCb_o"
      },
      "source": [
        "Em seguida vamos criar uma lista com as feature collections das regiões amostradas para cada classe.\n"
      ]
    },
    {
      "cell_type": "code",
      "execution_count": null,
      "metadata": {
        "id": "2iUMhL2VCb_p"
      },
      "outputs": [],
      "source": [
        "lista_amostra_classes = ee.List(\n",
        "    [\n",
        "        amostras_agua,\n",
        "        amostras_veget_baixa,\n",
        "        amostras_veget_alta,\n",
        "        amostras_construcoes,\n",
        "        amostras_solo,\n",
        "    ]\n",
        ")\n",
        "lista_amostra_classes"
      ]
    },
    {
      "cell_type": "markdown",
      "metadata": {
        "id": "zmjr4zTTCb_p"
      },
      "source": [
        "Agora precisamos executar a função para colher amostras nas feature collections de cada classe a partir da lista de amostras.\n",
        "O resultado será uma lista com uma feature collection para cada cada classe com a respectiva amostra.\n"
      ]
    },
    {
      "cell_type": "code",
      "execution_count": null,
      "metadata": {
        "id": "pwTwbRqJCb_q"
      },
      "outputs": [],
      "source": [
        "lista_amostra_pixels = lista_amostra_classes.map(coleta_pixels_amostra)\n",
        "lista_amostra_pixels"
      ]
    },
    {
      "cell_type": "markdown",
      "metadata": {
        "id": "YumgUqX-Cb_r"
      },
      "source": [
        "Finalmente, as Feature Collections são combinadas e achatadas usando `flatten()`\n",
        "para formar uma única Feature Collection com todas as Features.\n"
      ]
    },
    {
      "cell_type": "code",
      "execution_count": null,
      "metadata": {
        "id": "WZPV_WMtCb_r"
      },
      "outputs": [],
      "source": [
        "amostras_pixels = ee.FeatureCollection(lista_amostra_pixels).flatten()\n",
        "amostras_pixels"
      ]
    },
    {
      "cell_type": "markdown",
      "metadata": {
        "id": "MRT6UiKcCb_s"
      },
      "source": [
        "## Divisão das amostras em subconjuntos\n"
      ]
    },
    {
      "cell_type": "markdown",
      "metadata": {
        "id": "H1-Geoi8Cb_s"
      },
      "source": [
        "Vamos dividir as amostras em 3 conjuntos: treinamento, validação e testes.\n",
        "\n",
        "Uma semente aleatória gera números entre 0 e 1 para cada Feature de pixel em `random`.\n",
        "As amostras são divididas usando filtros em `random`, mantendo proporções uniformes.\n",
        "Por exemplo, `random` < 0.7 aloca 70% para treino, e 15% para teste e validação cada.\n"
      ]
    },
    {
      "cell_type": "code",
      "execution_count": null,
      "metadata": {
        "id": "dLaXRbrrCb_t"
      },
      "outputs": [],
      "source": [
        "semente = ee.Number(random.random()).multiply(10000).toLong()"
      ]
    },
    {
      "cell_type": "markdown",
      "metadata": {
        "id": "FANqvayxCb_t"
      },
      "source": [
        "Adiciona uma propriedade a cada pixel da amostra com um número real entre 0 e 1 aleatório.\n"
      ]
    },
    {
      "cell_type": "code",
      "execution_count": null,
      "metadata": {
        "id": "R5U9AR3zCb_u"
      },
      "outputs": [],
      "source": [
        "amostras_pixels = amostras_pixels.randomColumn(\"random\", semente)\n",
        "amostras_pixels"
      ]
    },
    {
      "cell_type": "markdown",
      "metadata": {
        "id": "WZ4X7y-qCb_u"
      },
      "source": [
        "Vamos separar 70% dos dados para treinamento, 15% para validação e 15% para teste final.\n"
      ]
    },
    {
      "cell_type": "code",
      "execution_count": null,
      "metadata": {
        "id": "t0ibd-B8Cb_v"
      },
      "outputs": [],
      "source": [
        "treinamento = amostras_pixels.filter(ee.Filter.lt(\"random\", 0.7))\n",
        "validacao = amostras_pixels.filter(ee.Filter.gte(\"random\", 0.7)).filter(\n",
        "    ee.Filter.lt(\"random\", 0.85)\n",
        ")\n",
        "teste = amostras_pixels.filter(ee.Filter.gte(\"random\", 0.85))"
      ]
    },
    {
      "cell_type": "code",
      "execution_count": null,
      "metadata": {
        "id": "c5YTnSw7Cb_v"
      },
      "outputs": [],
      "source": [
        "treinamento  # para visualizar a amostra de treinamento"
      ]
    },
    {
      "cell_type": "code",
      "execution_count": null,
      "metadata": {
        "id": "0MGEnbAECb_w"
      },
      "outputs": [],
      "source": [
        "validacao  # para visualizar a amostra de validação"
      ]
    },
    {
      "cell_type": "code",
      "execution_count": null,
      "metadata": {
        "id": "EXAjrFaqCb_w"
      },
      "outputs": [],
      "source": [
        "teste  # para visualizar a amostra de teste"
      ]
    },
    {
      "cell_type": "markdown",
      "metadata": {
        "id": "i4hqAm37Cb_x"
      },
      "source": [
        "### Treinamento e avaliação dos modelos\n"
      ]
    },
    {
      "cell_type": "markdown",
      "metadata": {
        "id": "IunlECxbCb_x"
      },
      "source": [
        "O passo inicial do processo é treinar os modelos desejados e avaliá-los na amostra de validação, para enfim tomar uma decisão sobre a escolha do modelo, ou reparametrização.\n"
      ]
    },
    {
      "cell_type": "markdown",
      "metadata": {
        "id": "gfExr5FGCb_x"
      },
      "source": [
        "#### Treinamento\n"
      ]
    },
    {
      "cell_type": "markdown",
      "metadata": {
        "id": "1Zffef39Cb_y"
      },
      "source": [
        "Para treinar o modelo, é necessário criar uma instância do classificador selecionado, configurando-o com os parâmetros apropriados, e depois aplicar o método `train()`.\n",
        "\n",
        "No nosso caso, usaremos o classificador `smileRandomForest()`, configurado inicialmente para usar 50 árvores de decisão.\n",
        "Este número de árvores é ajustável e deve ser refinado baseado no desempenho observado no conjunto de validação.\n",
        "Informações adicionais sobre outros parâmetros configuráveis podem ser consultadas na documentação do Google Earth Engine (GEE), e suas aplicações práticas estão detalhadas na literatura especializada.\n"
      ]
    },
    {
      "cell_type": "code",
      "execution_count": null,
      "metadata": {
        "id": "qK_DAIexCb_y"
      },
      "outputs": [],
      "source": [
        "# Instancia um classificador na memória com os parâmetros dados e treinando no conjunto de treinamento.\n",
        "classificador_treinado = ee.Classifier.smileRandomForest(50).train(\n",
        "    features=treinamento,  # amostra a ser usada para treinamento\n",
        "    classProperty=\"classe\",  # propriedade que contém o número que identifica a classe\n",
        "    inputProperties=ee.List([\"B2\", \"B3\", \"B4\", \"B8\", \"NDVI\"]),  # lista de bandas\n",
        ")\n",
        "classificador_treinado"
      ]
    },
    {
      "cell_type": "markdown",
      "metadata": {
        "id": "EcNeKnwACb_z"
      },
      "source": [
        "### Validação\n"
      ]
    },
    {
      "cell_type": "markdown",
      "metadata": {
        "id": "MJT5kidZCb_z"
      },
      "source": [
        "O processo de validação tenta compensar os efeitos do conjunto de treinamento sobre a matriz de confusão.\n",
        "Aqui, o classificador treinado é usado para classificar a amostra de validação e uma matriz de erros é gerada.\n",
        "\n",
        "A tendência é que a acurácia seja menor, caso a acurácia reduza excessivamente, pode ser efeito de um _overfitting_, onde o modelo tem um desempenho excelente no conjunto de treinamento, mas no de validação tem um desempenho ruim.\n",
        "Nesse caso, ajustes devem ser feitos nos parâmetros do modelo e conjunto de treinamento.\n",
        "\n",
        "/vamos iniciar aplicando o classificador que foi treinado no conjunto de treinamento sobre o conjunto de validação.\n"
      ]
    },
    {
      "cell_type": "code",
      "execution_count": null,
      "metadata": {
        "id": "5SGCsQpiCb_0"
      },
      "outputs": [],
      "source": [
        "validacao_classificada = validacao.classify(classificador_treinado)\n",
        "validacao_classificada"
      ]
    },
    {
      "cell_type": "markdown",
      "metadata": {
        "id": "PeHtQjJaCb_0"
      },
      "source": [
        "Calcula a matriz de erros do classificador aplicado ao conjunto de validação\n"
      ]
    },
    {
      "cell_type": "code",
      "execution_count": null,
      "metadata": {
        "id": "G49a1Fk7Cb_1"
      },
      "outputs": [],
      "source": [
        "matriz_validacao = validacao_classificada.errorMatrix(\"classe\", \"classification\")\n",
        "matriz_validacao"
      ]
    },
    {
      "cell_type": "markdown",
      "metadata": {
        "id": "lyxKjEZwCb_1"
      },
      "source": [
        "Calcula a acurácia do classificador aplicado ao conjunto de validação\n"
      ]
    },
    {
      "cell_type": "code",
      "execution_count": null,
      "metadata": {
        "id": "nQj4oS1FCb_2"
      },
      "outputs": [],
      "source": [
        "matriz_validacao.accuracy()"
      ]
    },
    {
      "cell_type": "markdown",
      "metadata": {
        "id": "WWf7aicMCb_2"
      },
      "source": [
        "#### Teste final e classificação da imagem\n"
      ]
    },
    {
      "cell_type": "markdown",
      "metadata": {
        "id": "RihmDPN9Cb_3"
      },
      "source": [
        "Vamos classificar o conjunto de testes usando o modelo validado, aplicando o método `classify()` do GEE ao objeto da amostra de testes com o classificador treinado.\n"
      ]
    },
    {
      "cell_type": "code",
      "execution_count": null,
      "metadata": {
        "id": "zyZfJ0_YCb_3"
      },
      "outputs": [],
      "source": [
        "validacao_classificada = validacao.classify(classificador_treinado)\n",
        "validacao_classificada"
      ]
    },
    {
      "cell_type": "markdown",
      "metadata": {
        "id": "o65LZkgnCb_4"
      },
      "source": [
        "A matriz de erro é então calculada e podemos visualizar a acurácia dos testes.\n"
      ]
    },
    {
      "cell_type": "code",
      "execution_count": null,
      "metadata": {
        "id": "_DB45OH-Cb_4"
      },
      "outputs": [],
      "source": [
        "matriz_validacao = validacao_classificada.errorMatrix(\"classe\", \"classification\")\n",
        "matriz_validacao"
      ]
    },
    {
      "cell_type": "markdown",
      "metadata": {
        "id": "pBqlHJL4Cb_4"
      },
      "source": [
        "Aqui é feita a avaliação do modelo escolhido, estimando seu erro de predição em novos dados através da acurácia.\n"
      ]
    },
    {
      "cell_type": "code",
      "execution_count": null,
      "metadata": {
        "id": "l-KMd_ydCb_4"
      },
      "outputs": [],
      "source": [
        "matriz_validacao.accuracy()"
      ]
    },
    {
      "cell_type": "markdown",
      "metadata": {
        "id": "r35nLY26Cb_5"
      },
      "source": [
        "O resultado do método `classify()`, diferentemente dos conjuntos de validação e\n",
        "teste, é um objeto do tipo `ee.Image` com uma única banda em que os pixels\n",
        "armazenam o valor relativo às classes que foram atribuídas no momento do desenho\n",
        "das regiões das amostras em tela.\n",
        "\n",
        "Abaixo vamos aplicar o classificador que foi treinado no conjunto de treinamento\n",
        "sobre o conjunto de teste.\n"
      ]
    },
    {
      "cell_type": "code",
      "execution_count": null,
      "metadata": {
        "id": "ya_zYkcOCb_5"
      },
      "outputs": [],
      "source": [
        "teste_classificada = teste.classify(classificador_treinado)\n",
        "teste_classificada"
      ]
    },
    {
      "cell_type": "markdown",
      "metadata": {
        "id": "wY0VaeJDCb_5"
      },
      "source": [
        "Calcula a matriz de erros da amostra de testes.\n"
      ]
    },
    {
      "cell_type": "code",
      "execution_count": null,
      "metadata": {
        "id": "Qjo5ZSK1Cb_5"
      },
      "outputs": [],
      "source": [
        "matriz_teste = teste_classificada.errorMatrix(\"classe\", \"classification\")\n",
        "matriz_teste"
      ]
    },
    {
      "cell_type": "markdown",
      "metadata": {
        "id": "KnszyIxICb_5"
      },
      "source": [
        "Calcula a acurácia da matriz de erros da amostra de testes.\n"
      ]
    },
    {
      "cell_type": "code",
      "execution_count": null,
      "metadata": {
        "id": "745u1FFuCb_6"
      },
      "outputs": [],
      "source": [
        "matriz_teste.accuracy()"
      ]
    },
    {
      "cell_type": "markdown",
      "metadata": {
        "id": "HO8XlREOCb_6"
      },
      "source": [
        "Classifica a imagem com o classificador treinado e com os parâmetros definidos.\n"
      ]
    },
    {
      "cell_type": "code",
      "execution_count": null,
      "metadata": {
        "id": "KkmMuGdgCb_6"
      },
      "outputs": [],
      "source": [
        "imagem_classificada = imagem.classify(classificador_treinado)\n",
        "imagem_classificada"
      ]
    },
    {
      "cell_type": "markdown",
      "metadata": {
        "id": "S_zfvMb3Cb_6"
      },
      "source": [
        "Visualiza o mapa final com as imagens geradas\n"
      ]
    },
    {
      "cell_type": "code",
      "execution_count": null,
      "metadata": {
        "id": "gyAtvPKyCb_6"
      },
      "outputs": [],
      "source": [
        "paleta_cores = [\n",
        "    \"#1f77b4\",  # Água - um azul mais suave e claro.\n",
        "    \"#98df8a\",  # Vegetação rasteira - um verde claro para diferenciar da vegetação alta.\n",
        "    \"#2ca02c\",  # Vegetação alta - um verde mais vibrante e menos saturado.\n",
        "    \"#7f7f7f\",  # Construção - um cinza médio que representa áreas construídas.\n",
        "    \"#ff7f0e\",  # Solo exposto - um laranja mais vibrante e atraente.\n",
        "]"
      ]
    },
    {
      "cell_type": "code",
      "execution_count": null,
      "metadata": {
        "id": "PSkHZ8TqCb_7"
      },
      "outputs": [],
      "source": [
        "my_map = geemap.Map()\n",
        "my_map.centerObject(roi, 12)\n",
        "my_map.addLayer(\n",
        "    imagem_classificada, {\"min\": 0, \"max\": 4, \"palette\": paleta_cores}, \"Classificação\"\n",
        ")\n",
        "my_map"
      ]
    }
  ],
  "metadata": {
    "kernelspec": {
      "display_name": ".venv",
      "language": "python",
      "name": "python3"
    },
    "language_info": {
      "codemirror_mode": {
        "name": "ipython",
        "version": 3
      },
      "file_extension": ".py",
      "mimetype": "text/x-python",
      "name": "python",
      "nbconvert_exporter": "python",
      "pygments_lexer": "ipython3",
      "version": "3.10.11"
    },
    "colab": {
      "provenance": []
    }
  },
  "nbformat": 4,
  "nbformat_minor": 0
}