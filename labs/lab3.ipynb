{
 "cells": [
  {
   "cell_type": "markdown",
   "metadata": {},
   "source": [
    "# Laboratório 3\n",
    "\n",
    "Cálculo do NDVI e classificação não-supervisionada de imagens no GEE\n"
   ]
  },
  {
   "cell_type": "markdown",
   "metadata": {},
   "source": [
    "Objetivos:\n",
    "\n",
    "1. Cálculo do NDVI no GEE\n",
    "2. Classificação não supervisionada de imagens com k-means no GEE\n",
    "3. Cálculo do número ideal de clusters\n"
   ]
  },
  {
   "cell_type": "markdown",
   "metadata": {},
   "source": [
    "## Introdução\n"
   ]
  },
  {
   "cell_type": "code",
   "execution_count": null,
   "metadata": {},
   "outputs": [],
   "source": [
    "import time\n",
    "\n",
    "import ee\n",
    "import geemap.geemap as geemap\n",
    "import matplotlib.pyplot as plt"
   ]
  },
  {
   "cell_type": "code",
   "execution_count": null,
   "metadata": {},
   "outputs": [],
   "source": [
    "# Ref: https://developers.google.com/earth-engine/apidocs/ee-authenticate\n",
    "# ee.Authenticate()\n",
    "ee.Initialize()"
   ]
  },
  {
   "cell_type": "code",
   "execution_count": null,
   "metadata": {},
   "outputs": [],
   "source": [
    "%matplotlib inline"
   ]
  },
  {
   "cell_type": "markdown",
   "metadata": {},
   "source": [
    "## Desenvolvimento\n"
   ]
  },
  {
   "cell_type": "markdown",
   "metadata": {},
   "source": [
    "### Importando a coleção\n"
   ]
  },
  {
   "cell_type": "markdown",
   "metadata": {},
   "source": [
    "Vamos utilizar imagens que contenham valores de reflectância em seus pixels (ao invés de valores de DN).\n",
    "Precisaremos de uma única imagem para executarmos nossa classificação.\n"
   ]
  },
  {
   "cell_type": "code",
   "execution_count": null,
   "metadata": {},
   "outputs": [],
   "source": [
    "lat, lon = -23.5546721, -46.7318389\n",
    "poli_usp_point = ee.Geometry.Point(lon, lat)"
   ]
  },
  {
   "cell_type": "code",
   "execution_count": null,
   "metadata": {},
   "outputs": [],
   "source": [
    "dataset = (\n",
    "    ee.ImageCollection(\"LANDSAT/LC09/C02/T1_L2\")\n",
    "    .filterDate(\"2010-01-01\", \"2024-02-01\")\n",
    "    .filterBounds(poli_usp_point)\n",
    ")"
   ]
  },
  {
   "cell_type": "markdown",
   "metadata": {},
   "source": [
    "Vamos fazer uma pouco usual porém importante, que é aplicar um _scaling factor_ na coleção de imagens para\n"
   ]
  },
  {
   "cell_type": "code",
   "execution_count": null,
   "metadata": {},
   "outputs": [],
   "source": [
    "# Ref.: https://developers.google.com/earth-engine/datasets/catalog/LANDSAT_LC09_C02_T1_L2#colab-python\n",
    "# Applies scaling factors.\n",
    "def apply_scale_factors(image):\n",
    "    optical_bands = image.select(\"SR_B.\").multiply(0.0000275).add(-0.2)\n",
    "    thermal_bands = image.select(\"ST_B.*\").multiply(0.00341802).add(149.0)\n",
    "    return image.addBands(optical_bands, None, True).addBands(thermal_bands, None, True)\n",
    "\n",
    "\n",
    "dataset = dataset.map(apply_scale_factors)"
   ]
  },
  {
   "cell_type": "markdown",
   "metadata": {},
   "source": [
    "Ordena as imagens de acordo com a cobertura de nuvens, depois pega a primeira imagem da lista e a armazena na variável `image`.\n",
    "Esta deve ser a imagem com menor cobertura de nuvens.\n"
   ]
  },
  {
   "cell_type": "code",
   "execution_count": null,
   "metadata": {},
   "outputs": [],
   "source": [
    "dataset = dataset.sort(\"CLOUD_COVER\", True)\n",
    "imagem = dataset.first()"
   ]
  },
  {
   "cell_type": "markdown",
   "metadata": {},
   "source": [
    "Apenas para confirmação, vamos plotar o histograma das bandas principais da imagem e verificar que realmente estamos trabalhando com valores de reflectância entre 0 e 1.\n"
   ]
  },
  {
   "cell_type": "code",
   "execution_count": null,
   "metadata": {},
   "outputs": [],
   "source": [
    "histograma = imagem.reduceRegion(\n",
    "    reducer=ee.Reducer.histogram(maxBuckets=2**9, minBucketWidth=0.001), maxPixels=1e9\n",
    ").getInfo()\n",
    "\n",
    "fig, ax = plt.subplots(figsize=(9, 5))\n",
    "\n",
    "for i, banda in enumerate([\"SR_B4\", \"SR_B3\", \"SR_B2\"]):\n",
    "    frequencias = histograma[banda][\"histogram\"]\n",
    "    bins = histograma[banda][\"bucketMeans\"]\n",
    "\n",
    "    ax.bar(bins, frequencias, width=bins[1] - bins[0], alpha=0.3)\n",
    "    ax.plot(bins, frequencias, linewidth=2, label=banda)\n",
    "    ax.set_title(f\"Histograma da reflectância em diferentes bandas\")\n",
    "    ax.set_xlabel(\"Reflectância\")\n",
    "    ax.set_ylabel(\"Frequência\")\n",
    "    ax.set_xlim([0, 1])\n",
    "\n",
    "plt.grid(True, alpha=0.3)\n",
    "plt.legend(loc=\"upper right\")\n",
    "plt.show()"
   ]
  },
  {
   "cell_type": "markdown",
   "metadata": {},
   "source": [
    "Utiliza as 3 bandas principais (vermelho, verde e azul) para visualizar a imagem e visualiza o mapa\n"
   ]
  },
  {
   "cell_type": "code",
   "execution_count": null,
   "metadata": {},
   "outputs": [],
   "source": [
    "imagem_vis = {\n",
    "    \"min\": 0.0,\n",
    "    \"max\": 0.3,\n",
    "}\n",
    "\n",
    "my_map = geemap.Map(center=[lat, lon], zoom=10)\n",
    "\n",
    "my_map.add_layer(imagem.select([\"SR_B4\", \"SR_B3\", \"SR_B2\"]), {}, \"Landsat9\")\n",
    "\n",
    "my_map"
   ]
  },
  {
   "cell_type": "markdown",
   "metadata": {},
   "source": [
    "Dessa vez seremos mais ousados... Você deverá selecionar um polígono no mapa do `geemap` e extrair as coordenadas do polígono para utilizarmos como região de interesse (ROI) para a extração da imagem.\n",
    "\n",
    "Escolha uma região que seja coberta predominantemente por vegetação.\n",
    "Regiões muito grandes podem deixar o processamento bastante lento, então tente escolher uma região de tamanho moderado.\n"
   ]
  },
  {
   "cell_type": "code",
   "execution_count": null,
   "metadata": {},
   "outputs": [],
   "source": [
    "polygon = my_map.draw_last_feature\n",
    "polygon.getInfo()"
   ]
  },
  {
   "cell_type": "markdown",
   "metadata": {},
   "source": [
    "Corta a imagem para apenas o polígono selecionado e visualiza o mapa\n"
   ]
  },
  {
   "cell_type": "code",
   "execution_count": null,
   "metadata": {},
   "outputs": [],
   "source": [
    "clipped = imagem.clip(polygon)\n",
    "my_map.addLayer(clipped, imagem_vis, \"Landsat9\")\n",
    "my_map"
   ]
  },
  {
   "cell_type": "markdown",
   "metadata": {},
   "source": [
    "### Cálculo do NDVI\n"
   ]
  },
  {
   "cell_type": "markdown",
   "metadata": {},
   "source": [
    "Vamos realizar algumas operações aritméticas para calcular o NDVI da imagem.\n",
    "\n",
    "Primeiramente deve-se extrair as bandas do NIR e do vermelho e colocá-las em variáveis separadas.\n"
   ]
  },
  {
   "cell_type": "code",
   "execution_count": null,
   "metadata": {},
   "outputs": [],
   "source": [
    "# Veja na documentação o significado de cada banda\n",
    "imagem_banda_nir = clipped.select(\"SR_B5\")  # Near Infrared (NIR)\n",
    "imagem_banda_vermelho = clipped.select(\"SR_B4\")  # Red"
   ]
  },
  {
   "cell_type": "markdown",
   "metadata": {},
   "source": [
    "Adicionar uma banda NDVI à imagem.\n",
    "A fórmula do NDVI primeiro faz a diferença entre os valores da banda NIR e da banda do vermelho visível, depois o valor resultante é dividido pela soma das mesmas duas bandas.\n"
   ]
  },
  {
   "cell_type": "code",
   "execution_count": null,
   "metadata": {},
   "outputs": [],
   "source": [
    "clipped = clipped.addBands(\n",
    "    imagem_banda_nir.subtract(imagem_banda_vermelho)\n",
    "    .divide(imagem_banda_nir.add(imagem_banda_vermelho))\n",
    "    .rename(\"NDVI\"),  # NDVI será o nome da nova banda\n",
    "    [\"NDVI\"],\n",
    ")"
   ]
  },
  {
   "cell_type": "markdown",
   "metadata": {},
   "source": [
    "Podemos conferir que no objeto `clipped` foi adicionada uma banda NDVI.\n"
   ]
  },
  {
   "cell_type": "code",
   "execution_count": null,
   "metadata": {},
   "outputs": [],
   "source": [
    "clipped"
   ]
  },
  {
   "cell_type": "markdown",
   "metadata": {},
   "source": [
    "Adicionar o NDVI como um _layer_ no mapa\n"
   ]
  },
  {
   "cell_type": "code",
   "execution_count": null,
   "metadata": {},
   "outputs": [],
   "source": [
    "my_map.addLayer(clipped, {\"bands\": [\"NDVI\"], \"min\": -1, \"max\": 1}, \"NDVI\")"
   ]
  },
  {
   "cell_type": "markdown",
   "metadata": {},
   "source": [
    "Visualizar o mapa novamente\n"
   ]
  },
  {
   "cell_type": "code",
   "execution_count": null,
   "metadata": {},
   "outputs": [],
   "source": [
    "my_map"
   ]
  },
  {
   "cell_type": "markdown",
   "metadata": {},
   "source": [
    "### Execução do k-means\n"
   ]
  },
  {
   "cell_type": "markdown",
   "metadata": {},
   "source": [
    "Há duas maneiras de se executar o k-means junto do GEE:\n",
    "\n",
    "1. Uma delas está dentro de `ee.Algorithms`.\n",
    "2. A outra é baseada na implementação do pacote WEKA dentro dos algoritmos da classe `ee.Clusterer`.\n",
    "\n",
    "Vamos trabalhar com a segunda opção por enquanto, e depois podemos experimentar a primeira.\n"
   ]
  },
  {
   "cell_type": "code",
   "execution_count": null,
   "metadata": {},
   "outputs": [],
   "source": [
    "escala = 30  # 30 metros, ver descrição da coleção de imagens\n",
    "bandas = ee.List([\"SR_B2\", \"SR_B3\", \"SR_B4\", \"SR_B5\", \"SR_B6\", \"SR_B7\"])\n",
    "\n",
    "roi = clipped.select(bandas)  # Region of interest\n",
    "roi"
   ]
  },
  {
   "cell_type": "markdown",
   "metadata": {},
   "source": [
    "Primeiramente, vamos selecionar uma amostra de pixels com o método `sample()` chamado a partir da imagem que será classificada, que neste caso será a imagem `clipped`\n"
   ]
  },
  {
   "cell_type": "code",
   "execution_count": null,
   "metadata": {},
   "outputs": [],
   "source": [
    "# Selecionar uma amostra para executar o k-means\n",
    "amostra_treinamento = roi.sample(\n",
    "    region=clipped.geometry(),  # redundante fazer isso, mas é para ensinar que é possível selecionar uma região menor\n",
    "    scale=escala,\n",
    "    numPixels=5000,\n",
    ")"
   ]
  },
  {
   "cell_type": "markdown",
   "metadata": {},
   "source": [
    "O resultado deve ser uma FeatureCollection com `numPixels` amostras.\n"
   ]
  },
  {
   "cell_type": "code",
   "execution_count": null,
   "metadata": {},
   "outputs": [],
   "source": [
    "amostra_treinamento\n",
    "# TODO: acho que seria possível criar um pd.Dataframe com os dados da amostra abaixo,\n",
    "# Isso facilitaria bastante a fazer o k-means lá na frente, mas o desafio maior é como voltar para o ee.ImageCollection depois"
   ]
  },
  {
   "cell_type": "markdown",
   "metadata": {},
   "source": [
    "Executando a clusterização de k-means\n"
   ]
  },
  {
   "cell_type": "code",
   "execution_count": null,
   "metadata": {},
   "outputs": [],
   "source": [
    "k = 5  # número de clusters (altere se quiser testar diferentes valores)\n",
    "clusters_imagem = ee.Clusterer.wekaKMeans(k).train(amostra_treinamento)"
   ]
  },
  {
   "cell_type": "code",
   "execution_count": null,
   "metadata": {},
   "outputs": [],
   "source": [
    "clusters_imagem"
   ]
  },
  {
   "cell_type": "markdown",
   "metadata": {},
   "source": [
    "Agora classificamos os pixels de acordo com o resultado do k-means\n"
   ]
  },
  {
   "cell_type": "code",
   "execution_count": null,
   "metadata": {},
   "outputs": [],
   "source": [
    "# Classificando os pixels de acordo com o resultado do k-means da amostra\n",
    "imagem_classificada_weka = roi.cluster(clusters_imagem)"
   ]
  },
  {
   "cell_type": "code",
   "execution_count": null,
   "metadata": {},
   "outputs": [],
   "source": [
    "imagem_classificada_weka"
   ]
  },
  {
   "cell_type": "markdown",
   "metadata": {},
   "source": [
    "Vamos adicionar a nova imagem ao mapa para visualizarmos o resultado da classificação\n"
   ]
  },
  {
   "cell_type": "code",
   "execution_count": null,
   "metadata": {},
   "outputs": [],
   "source": [
    "# Adicionando a imagem classificada no mapa do GEE\n",
    "# Vamos colorir aleatoriamente, mas você pode alterar as cores depois\n",
    "my_map.addLayer(imagem_classificada_weka.randomVisualizer(), {}, \"k-means\")"
   ]
  },
  {
   "cell_type": "markdown",
   "metadata": {},
   "source": [
    "Visualizar o mapa novamente\n"
   ]
  },
  {
   "cell_type": "code",
   "execution_count": null,
   "metadata": {},
   "outputs": [],
   "source": [
    "my_map"
   ]
  },
  {
   "cell_type": "markdown",
   "metadata": {},
   "source": [
    "## Indo além\n"
   ]
  },
  {
   "cell_type": "markdown",
   "metadata": {},
   "source": [
    "### Seleção de número de clusters ótimo\n"
   ]
  },
  {
   "cell_type": "markdown",
   "metadata": {},
   "source": [
    "Vamos tentar encontrar, de forma programática, o número de clusters ótimo para a classificação.\n",
    "Para tanto, precisamos rodar o k-means para diferentes valores de k e calcular o erro quadrático médio (MSE) para cada um deles.\n"
   ]
  },
  {
   "cell_type": "markdown",
   "metadata": {},
   "source": [
    "Antes de mais nada, vamos criar uma função que realiza o k-means dado um número de clusters, a amostra de treinamento e uma imagem.\n"
   ]
  },
  {
   "cell_type": "code",
   "execution_count": null,
   "metadata": {},
   "outputs": [],
   "source": [
    "def executa_kmeans(k: int, amostra: ee.FeatureCollection, img: ee.Image):\n",
    "    \"\"\"Executa o k-means na imagem 'img' com 'k' clusters, usando 'amostra'\n",
    "    como amostra de treinamento.\"\"\"\n",
    "    # Initialization method to use.0 = random, 1 = k-means++, 2 = canopy, 3 = farthest first.\n",
    "    return img.cluster(\n",
    "        ee.Clusterer.wekaKMeans(nClusters=k, init=1, fast=True).train(amostra)\n",
    "    )"
   ]
  },
  {
   "cell_type": "markdown",
   "metadata": {},
   "source": [
    "Agora vamos para a parte mais legal: uma função para calcular a soma dos quadrados das distâncias dos pixels para o centroide do cluster ao qual ele pertence. Essa função é chamada de soma dos quadrados dentro do cluster (within cluster sum of squares, ou WCSS).\n"
   ]
  },
  {
   "cell_type": "code",
   "execution_count": null,
   "metadata": {},
   "outputs": [],
   "source": [
    "def wcss(img_kmeans):\n",
    "    \"\"\"\n",
    "    Esta função calcula a soma dos quadrados intra-clusters (Within Cluster Sum of Squares)\n",
    "    para cada imagem clusterizada. Créditos: Leonard Godoy\n",
    "    \"\"\"\n",
    "    img_kmeans = ee.Image(img_kmeans)\n",
    "\n",
    "    # Encontra o ID de cluster máximo na imagem\n",
    "    max_id_cluster = img_kmeans.reduceRegion(\n",
    "        reducer=ee.Reducer.max(), maxPixels=1e7, bestEffort=True\n",
    "    )\n",
    "\n",
    "    # Cria uma lista de IDs de cluster\n",
    "    lista_id_clusters = ee.List.sequence(0, max_id_cluster.get(\"cluster\"))\n",
    "\n",
    "    # Função para calcular a diferença quadrática para um cluster\n",
    "    def calcula_diff_quad_cluster(id_cluster):\n",
    "        # Isola os pixels pertencentes ao cluster atual\n",
    "        pixels_cluster = imagem.mask(img_kmeans.eq(ee.Number(id_cluster).toInt()))\n",
    "\n",
    "        # Calcula a média dos pixels do cluster\n",
    "        media_pixels_cluster = pixels_cluster.reduceRegion(\n",
    "            ee.Reducer.mean(), maxPixels=1e7, bestEffort=True\n",
    "        )\n",
    "\n",
    "        # Calcula a diferença quadrática\n",
    "        diff_quad = pixels_cluster.subtract(media_pixels_cluster.toImage()).pow(2)\n",
    "\n",
    "        # Soma a diferença quadrática sobre todas as bandas\n",
    "        diff_quad_soma_bandas = diff_quad.reduceRegion(\n",
    "            ee.Reducer.sum(), maxPixels=1e7, bestEffort=True\n",
    "        )\n",
    "\n",
    "        # Retorna a soma das diferenças quadráticas para todas as bandas\n",
    "        return diff_quad_soma_bandas.values().reduce(ee.Reducer.sum())\n",
    "\n",
    "    # Mapeia a função sobre a lista de IDs de cluster e reduz os resultados\n",
    "    soma_wcss = lista_id_clusters.map(calcula_diff_quad_cluster).reduce(\n",
    "        reducer=ee.Reducer.sum()\n",
    "    )\n",
    "    value = soma_wcss.getInfo()\n",
    "    print(\"\\t>>> WCSS: \", value)\n",
    "    return value"
   ]
  },
  {
   "cell_type": "markdown",
   "metadata": {},
   "source": [
    "Perfeito, agora vamos iterar sobre uma lista de valores de k, fazer o agrupamento e calcular o WCSS para cada um deles.\n"
   ]
  },
  {
   "cell_type": "code",
   "execution_count": null,
   "metadata": {},
   "outputs": [],
   "source": [
    "# TODO: código está bastante lento, mas não consegui fazer funcionar usando map (erro 429 na API do GEE)\n",
    "\n",
    "# Gera lista com uma sequência dos números de cluster\n",
    "numero_clusters = range(2, 10, 3)  # start, stop, step\n",
    "\n",
    "# Lista para armazenar os resultados\n",
    "k_values = []  # Lista para armazenar os valores de k\n",
    "wcss_values = []  # Lista para armazenar os valores WCSS\n",
    "\n",
    "# Loop para aplicar k-means com diferentes números de clusters\n",
    "# Obs.: Existem várias informações de tempo aqui, mas isso é só para debug\n",
    "for k in numero_clusters:\n",
    "    print(f\"Executando k-means com k = {float(k):2.0f}\")\n",
    "    start_time = time.time()  # Captura o tempo de início da iteração\n",
    "\n",
    "    img = executa_kmeans(k, amostra_treinamento, roi)\n",
    "    k_values.append(k)\n",
    "    wcss_values.append(wcss(img))\n",
    "\n",
    "    # Calcula o tempo e imprime no console\n",
    "    end_time = time.time()\n",
    "    elapsed_time = end_time - start_time\n",
    "    print(\n",
    "        f\"\\tK-means concluído em {elapsed_time:.2f} s.\\n\"\n",
    "    )  # Imprime o tempo decorrido"
   ]
  },
  {
   "cell_type": "code",
   "execution_count": null,
   "metadata": {},
   "outputs": [],
   "source": [
    "roi"
   ]
  },
  {
   "cell_type": "markdown",
   "metadata": {},
   "source": [
    "Plotar o gráfico de MSE para cada valor de k\n"
   ]
  },
  {
   "cell_type": "code",
   "execution_count": null,
   "metadata": {},
   "outputs": [],
   "source": [
    "# Plota o gráfico WCSS\n",
    "plt.plot(k_values[:], wcss_values, \"bx-\")\n",
    "plt.title(\"Método do Cotovelo para K-Means Clustering\")\n",
    "plt.xlabel(\"Número de clusters\")\n",
    "plt.ylabel(\"WCSS\")\n",
    "plt.xlim(xmin=2)\n",
    "plt.show()"
   ]
  },
  {
   "cell_type": "code",
   "execution_count": null,
   "metadata": {},
   "outputs": [],
   "source": [
    "import plotly.graph_objects as go\n",
    "\n",
    "# Criar o gráfico\n",
    "fig = go.Figure()\n",
    "\n",
    "# Adicionando a linha do WCSS\n",
    "fig.add_trace(\n",
    "    go.Scatter(x=k_values[:], y=wcss_values, mode=\"lines+markers\", name=\"WCSS\")\n",
    ")\n",
    "\n",
    "# Detalhes do gráfico\n",
    "fig.update_layout(\n",
    "    title=\"WCSS vs. Número de Clusters\",\n",
    "    xaxis_title=\"Número de Clusters\",\n",
    "    yaxis_title=\"WCSS\",\n",
    "    yaxis=dict(showexponent=\"all\", exponentformat=\"e\"),\n",
    "    width=800,\n",
    ")\n",
    "\n",
    "fig.show()"
   ]
  },
  {
   "cell_type": "markdown",
   "metadata": {},
   "source": [
    "### Alternativa para execução do k-means no GEE\n"
   ]
  },
  {
   "cell_type": "code",
   "execution_count": null,
   "metadata": {},
   "outputs": [],
   "source": [
    "imagem_classificada = ee.Algorithms.Image.Segmentation.KMeans(\n",
    "    image= roi, numClusters= 5, uniqueLabels= False\n",
    ")"
   ]
  },
  {
   "cell_type": "code",
   "execution_count": null,
   "metadata": {},
   "outputs": [],
   "source": [
    "my_map.addLayer(imagem_classificada.randomVisualizer(), {}, \"k-means3\")\n",
    "my_map\n"
   ]
  },
  {
   "cell_type": "markdown",
   "metadata": {},
   "source": [
    "## Atividade\n"
   ]
  },
  {
   "cell_type": "code",
   "execution_count": null,
   "metadata": {},
   "outputs": [],
   "source": []
  },
  {
   "cell_type": "code",
   "execution_count": null,
   "metadata": {},
   "outputs": [],
   "source": []
  }
 ],
 "metadata": {
  "kernelspec": {
   "display_name": ".venv",
   "language": "python",
   "name": "python3"
  },
  "language_info": {
   "codemirror_mode": {
    "name": "ipython",
    "version": 3
   },
   "file_extension": ".py",
   "mimetype": "text/x-python",
   "name": "python",
   "nbconvert_exporter": "python",
   "pygments_lexer": "ipython3",
   "version": "3.10.9"
  }
 },
 "nbformat": 4,
 "nbformat_minor": 2
}
