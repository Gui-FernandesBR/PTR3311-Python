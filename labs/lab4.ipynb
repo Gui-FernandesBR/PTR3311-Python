{
  "cells": [
    {
      "cell_type": "markdown",
      "metadata": {
        "id": "I5PLGk93lghb"
      },
      "source": [
        "# Laboratório 4\n",
        "\n",
        "Mosaicos e classificação supervisionada de imagens no GEE\n"
      ]
    },
    {
      "cell_type": "markdown",
      "metadata": {
        "id": "taT9lK0Tlghh"
      },
      "source": [
        "Objetivos:\n",
        "\n",
        "1. Remoção de nuvens\n",
        "2. Composições e mosaicos de imagens\n",
        "3. Classificação supervisionada no GEE\n"
      ]
    },
    {
      "cell_type": "code",
      "execution_count": null,
      "metadata": {
        "id": "L35BK8Fxlghk"
      },
      "outputs": [],
      "source": [
        "import ee\n",
        "import geemap"
      ]
    },
    {
      "cell_type": "code",
      "execution_count": null,
      "metadata": {
        "id": "cNU1d12Slghl"
      },
      "outputs": [],
      "source": [
        "# Ref: https://developers.google.com/earth-engine/apidocs/ee-authenticate\n",
        "# Para inicializar a sessão para execução insira o id do projeto em ee.Initialize().\n",
        "ee.Authenticate()\n",
        "ee.Initialize(project='id_projeto')"
      ]
    },
    {
      "cell_type": "markdown",
      "metadata": {
        "id": "RhDJ6sX1lghl"
      },
      "source": [
        "## Preparar dados\n"
      ]
    },
    {
      "cell_type": "markdown",
      "metadata": {
        "id": "wK0N4avslghl"
      },
      "source": [
        "### Filtrar coleção de imagens (nuvens, datas e região)\n"
      ]
    },
    {
      "cell_type": "markdown",
      "metadata": {
        "id": "_cGSvDO2lghm"
      },
      "source": [
        "Dessa vez vamos utilizar uma coleção de imagens ao invés de uma imagem única,\n",
        "isso garantirá maior robustez ao nosso modelo de classificação.\n",
        "\n",
        "Adicionalmente neste laboratório, diferentemente do anterior, utilizar imagens sem nuvens serão essenciais.\n",
        "Para eliminar as nuvens, captura-se múltiplas imagens da mesma área, remove-se as nuvens e, usando a técnica do mosaico, integram-se todas em uma única imagem.\n",
        "Isso preenche lacunas deixadas pelas nuvens removidas, pois os pixels faltantes em uma imagem são substituídos por pixels válidos de outras.\n",
        "O GEE prioriza o pixel da imagem que está no topo da coleção para compor o mosaico.\n",
        "\n",
        "Vamos ver como fazer isso.\n"
      ]
    },
    {
      "cell_type": "code",
      "execution_count": null,
      "metadata": {
        "id": "1tEC3CYMlghn"
      },
      "outputs": [],
      "source": [
        "# Essa é uma função padrão do\n",
        "def mask_s2_clouds(image):\n",
        "    \"\"\"Masks clouds in a Sentinel-2 image using the QA band.\n",
        "\n",
        "    Args:\n",
        "        image (ee.Image): A Sentinel-2 image.\n",
        "\n",
        "    Returns:\n",
        "        ee.Image: A cloud-masked Sentinel-2 image.\n",
        "    \"\"\"\n",
        "    qa = image.select(\"QA60\")\n",
        "\n",
        "    # Bits 10 and 11 are clouds and cirrus, respectively.\n",
        "    cloud_bit_mask = 1 << 10\n",
        "    cirrus_bit_mask = 1 << 11\n",
        "\n",
        "    # Both flags should be set to zero, indicating clear conditions.\n",
        "    mask = qa.bitwiseAnd(cloud_bit_mask).eq(0).And(qa.bitwiseAnd(cirrus_bit_mask).eq(0))\n",
        "\n",
        "    return image.updateMask(mask).divide(10000)"
      ]
    },
    {
      "cell_type": "markdown",
      "metadata": {
        "id": "SRQQgBsOlgho"
      },
      "source": [
        "Para nos ajudar com a análise, vamos filtrar somente as imagens que passam por\n",
        "São Paulo.\n",
        "Para isso definimos um ponto e depois utilizamos o método `filterBounds()` do GEE\n"
      ]
    },
    {
      "cell_type": "code",
      "execution_count": null,
      "metadata": {
        "id": "1yv5HM6Nlghp"
      },
      "outputs": [],
      "source": [
        "sao_paulo = ee.Geometry.Point(-46.711, -23.641)\n",
        "sao_paulo"
      ]
    },
    {
      "cell_type": "markdown",
      "metadata": {
        "id": "1G32H6X4lghp"
      },
      "source": [
        "Vamos definir os limites para cobertura de nuvem e filtrar a coleção de imagens.\n",
        "Agora vamos filtrar o período em que queremos trabalhar com as imagens.\n",
        "\n",
        "Alguns comentários:\n",
        "\n",
        "- Selecionar um período muito longo pode resultar em uma coleção muito grande e pesada para trabalhar\n",
        "- Para fins de exemplos vamos cobrir o ano de 2020\n",
        "\n",
        "💡 A dica aqui é trabalhar com o intervalo de datas e valor de cobertura por\n",
        "nuvens até se obter uma coleção de tamanho suficiente para a composição da imagem\n",
        "de forma apropriada\n"
      ]
    },
    {
      "cell_type": "code",
      "execution_count": null,
      "metadata": {
        "id": "R_0u8Fm2lghq"
      },
      "outputs": [],
      "source": [
        "limite_cobertura_nuvem = 5  # máximo de 10% de cobertura de nuvem\n",
        "data_inicial, data_final = \"2018-01-01\", \"2022-01-30\"\n",
        "\n",
        "dataset = (\n",
        "    ee.ImageCollection(\"COPERNICUS/S2_SR_HARMONIZED\")\n",
        "    .filterBounds(sao_paulo)\n",
        "    .filterDate(data_inicial, data_final)\n",
        "    .filter(ee.Filter.lt(\"CLOUDY_PIXEL_PERCENTAGE\", limite_cobertura_nuvem))\n",
        "    .map(mask_s2_clouds)\n",
        ")\n",
        "dataset"
      ]
    },
    {
      "cell_type": "markdown",
      "metadata": {
        "id": "teCMxCTJlghq"
      },
      "source": [
        "Podemos verificar o número de imagens resultantes na coleção com o método `size()`:\n"
      ]
    },
    {
      "cell_type": "code",
      "execution_count": null,
      "metadata": {
        "id": "UshrM8Oqlghq"
      },
      "outputs": [],
      "source": [
        "print(f\"total de imagens na coleção: {dataset.size().getInfo()}\")"
      ]
    },
    {
      "cell_type": "markdown",
      "metadata": {
        "id": "V7fJUVYjlghr"
      },
      "source": [
        "### Recortar a região de interesse (_Region of Interest - ROI_)\n"
      ]
    },
    {
      "cell_type": "markdown",
      "metadata": {
        "id": "iVEeHitHlghr"
      },
      "source": [
        "Primeiramente vamos definir um polígino de interesse para nossa análise.\n",
        "\n",
        "A fins de exemplo, vamos definir programaticamente um polígono retangular\n",
        "que cobre a cidade de São Paulo.\n",
        "Mas tenha em mente que você também pode selecionar no mapa usando a ferramenta\n",
        "de desenho.\n"
      ]
    },
    {
      "cell_type": "code",
      "execution_count": null,
      "metadata": {
        "id": "u17izgFxlghs"
      },
      "outputs": [],
      "source": [
        "# roi: região de interesse\n",
        "roi = ee.Geometry.BBox(\n",
        "    west=-46.88655, south=-23.6906, east=-46.611642, north=-23.590958\n",
        ")\n",
        "roi"
      ]
    },
    {
      "cell_type": "markdown",
      "metadata": {
        "id": "zcXB9vq2lghs"
      },
      "source": [
        "Como no trabalho a ideia é utilizar uma coleção de imagens, o método `clip()`\n",
        "não pode ser aplicado diretamente.\n",
        "\n",
        "Para efetuar o procedimento uma função personalizada deve ser criada.\n",
        "No caso, abaixo criamos a função `clip_img_collection()`, que recebe uma\n",
        "coleção de imagens e uma geometria (no caso, o nosso polígono de interesse)\n",
        "e retorna a coleção já recortada.\n"
      ]
    },
    {
      "cell_type": "code",
      "execution_count": null,
      "metadata": {
        "id": "IDonbGzblghs"
      },
      "outputs": [],
      "source": [
        "def clip_img_collection(dataset, geometria):\n",
        "    \"\"\"Recorta todas as imagens de uma coleção de imagens do Earth Engine para\n",
        "    uma região específica definida por uma geometria.\n",
        "\n",
        "    Essa função cria internamente uma função de recorte específica para a\n",
        "    geometria fornecida e aplica essa função a cada imagem na coleção de imagens\n",
        "    usando o método map().\n",
        "\n",
        "    Parameters\n",
        "    ----------\n",
        "    dataset : ee.ImageCollection\n",
        "        A coleção de imagens a ser recortada. Cada imagem da coleção será\n",
        "        recortada para se adequar à geometria fornecida.\n",
        "\n",
        "    geometria : ee.Geometry\n",
        "        A geometria que define a região de interesse para onde as imagens serão\n",
        "        recortadas. A geometria pode ser um ponto, linha, polígono, etc.\n",
        "\n",
        "    Returns\n",
        "    -------\n",
        "    ee.ImageCollection\n",
        "        Uma nova coleção de imagens com cada imagem recortada para a região\n",
        "        definida pela geometria fornecida.\n",
        "    \"\"\"\n",
        "\n",
        "    def clip_func(image):\n",
        "        return image.clip(geometria)\n",
        "\n",
        "    return dataset.map(clip_func)"
      ]
    },
    {
      "cell_type": "code",
      "execution_count": null,
      "metadata": {
        "id": "iSzWB_kwlght"
      },
      "outputs": [],
      "source": [
        "# Faz o clip da região desejada em toda coleção.\n",
        "clipped_dataset = clip_img_collection(dataset, roi)\n",
        "clipped_dataset"
      ]
    },
    {
      "cell_type": "markdown",
      "metadata": {
        "id": "BBcV1jaVlght"
      },
      "source": [
        "### Remoção de valores inválidos\n"
      ]
    },
    {
      "cell_type": "markdown",
      "metadata": {
        "id": "DNmvHq8Jlght"
      },
      "source": [
        "Após a remoção das nuvens, para melhorar ao conjunto de dados, vamos eliminar\n",
        "valores discrepantes.\n",
        "\n",
        "Sabemos que a reflectância deve ser menor do que 1, então vamos criar uma máscara\n",
        "para eliminar valores maiores do que 1.\n",
        "\n",
        "As máscaras são geradas a partir do comparador `lt()` (_less than_ - menor do que)\n",
        "do GEE.\n"
      ]
    },
    {
      "cell_type": "code",
      "execution_count": null,
      "metadata": {
        "id": "56j_H5DSlght"
      },
      "outputs": [],
      "source": [
        "# Função para remoção de valores inválidos\n",
        "def remove_valores_invalidos(collection, bandas):\n",
        "    \"\"\"Aplica uma máscara para remover valores inválidos em uma coleção de\n",
        "    imagens.\n",
        "\n",
        "    Os valores considerados inválidos são aqueles maiores que 1 para as bandas\n",
        "    especificadas.\n",
        "\n",
        "    Parameters\n",
        "    ----------\n",
        "    collection : ee.ImageCollection\n",
        "        A coleção de imagens a ser processada.\n",
        "    bandas : list of str\n",
        "        Lista com os nomes das bandas que serão processadas.\n",
        "\n",
        "    Returns\n",
        "    -------\n",
        "    ee.ImageCollection\n",
        "        A coleção de imagens com valores inválidos removidos.\n",
        "    \"\"\"\n",
        "\n",
        "    def mask_out_of_range_reflectance(imagem):\n",
        "        \"\"\"Mascara valores de reflectância acima de 1\"\"\"\n",
        "        for banda in bandas:\n",
        "            imagem = imagem.updateMask(imagem.select(banda).lt(1))\n",
        "        return imagem\n",
        "\n",
        "    return collection.map(mask_out_of_range_reflectance)"
      ]
    },
    {
      "cell_type": "code",
      "execution_count": null,
      "metadata": {
        "id": "7KqUYNmFlght"
      },
      "outputs": [],
      "source": [
        "# Executa a função de remoção dos valores inválidos na coleção.\n",
        "clipped_dataset = remove_valores_invalidos(clipped_dataset, [\"B2\", \"B3\", \"B4\", \"B8\"])\n",
        "clipped_dataset"
      ]
    },
    {
      "cell_type": "markdown",
      "metadata": {
        "id": "aCDXbPnrlght"
      },
      "source": [
        "### Composição e Mosaico\n"
      ]
    },
    {
      "cell_type": "markdown",
      "metadata": {
        "id": "IevZX4Fclght"
      },
      "source": [
        "Para se criar um mosaico a partir de uma coleção de imagens, basta invocar o\n",
        "método `mosaic()` da coleção de interesse.\n",
        "\n",
        "Já para a criação de uma composição, um método do tipo reducer que faz um\n",
        "cálculo pixel a pixel deve ser chamado a partir do objeto que contém a coleção.\n",
        "Nesse caso, os pixels transparentes são ignorados durante os cálculos.\n",
        "\n",
        "Os cálculos são feitos de forma separada para cada banda das imagens da coleção,\n",
        "resultando assim em uma imagem com as mesmas bandas da coleção, onde cada pixel\n",
        "de cada banda é preenchido por um valor calculado a partir da banda de mesmo nome na coleção.\n"
      ]
    },
    {
      "cell_type": "code",
      "execution_count": null,
      "metadata": {
        "id": "NaSbdbjllghu"
      },
      "outputs": [],
      "source": [
        "# Criação de mosaico a partir da coleção.\n",
        "mosaico = clipped_dataset.mosaic()\n",
        "# TODO: não vamos usar o mosaico pra nada? Roteiro antigo não ajudou muito.\n",
        "\n",
        "# Criação de composição a partir da coleção.\n",
        "composition = clipped_dataset.mean()"
      ]
    },
    {
      "cell_type": "markdown",
      "metadata": {
        "id": "mUBY1uKZlghu"
      },
      "source": [
        "Vamos conferir o resultado da composição através do método `bandTypes()` que\n",
        "retorna as bandas da imagem.\n"
      ]
    },
    {
      "cell_type": "code",
      "execution_count": null,
      "metadata": {
        "id": "mwcHG-z5lghu"
      },
      "outputs": [],
      "source": [
        "composition.bandTypes()\n",
        "# TODO: for a strange reason, it is giving me numbers higher than 1.0, needs checking"
      ]
    },
    {
      "cell_type": "markdown",
      "metadata": {
        "id": "3fc9ue2Rlghu"
      },
      "source": [
        "### Calcular NDVI\n"
      ]
    },
    {
      "cell_type": "markdown",
      "metadata": {
        "id": "SpbSipYllghu"
      },
      "source": [
        "Agora queremos calcular a banda de índice de vegetação (`NDVI`) para cada imagem\n",
        "da coleção.\n",
        "Vamos seguir os mesmos passos do laboratório anterior!\n",
        "\n",
        "Alguns comentários:\n",
        "\n",
        "- `B2` é a banda azul\n",
        "- `B3` é a banda verde\n",
        "- `B4` é a banda vermelha\n",
        "- `B8` é a banda infravermelho próximo (NIR)\n",
        "- `MSK_CLDPRB` é a banda de probabilidade de nuvens\n",
        "- `SCL` é fruto de um processo de classificação pelo algoritmo de classificação de cena ([_Scene Classification_](https://earth.esa.int/web/sentinel/technical-guides/sentinel-2-msi/level-2a/algorithm))\n",
        "\n",
        "💡 Sempre verifique a documentação oficial: https://developers.google.com/earth-engine/datasets/catalog/COPERNICUS_S2_SR_HARMONIZED#bands\n"
      ]
    },
    {
      "cell_type": "code",
      "execution_count": null,
      "metadata": {
        "id": "iHskglqflghv"
      },
      "outputs": [],
      "source": [
        "# calcular a banda NDVI conforme visto no laboratório anterior.\n",
        "\n",
        "img_bd_nir = composition.select(\"B8\")\n",
        "img_bd_red = composition.select(\"B4\")\n",
        "\n",
        "## adicionar a banda NDVI à coleção de imagens\n",
        "composition = composition.addBands(\n",
        "    img_bd_nir.subtract(img_bd_red).divide(img_bd_nir.add(img_bd_red)).rename(\"NDVI\"),\n",
        "    [\"NDVI\"],\n",
        ")\n",
        "composition"
      ]
    },
    {
      "cell_type": "markdown",
      "metadata": {
        "id": "w1okQPjflghv"
      },
      "source": [
        "### Seleção de bandas para a classificação\n"
      ]
    },
    {
      "cell_type": "markdown",
      "metadata": {
        "id": "zzyb0r5Alghv"
      },
      "source": [
        "Vamos criar listas com nomes das bandas para utilizarmos ao longo deste laboratório.\n"
      ]
    },
    {
      "cell_type": "code",
      "execution_count": null,
      "metadata": {
        "id": "7-yBzi0Blghv"
      },
      "outputs": [],
      "source": [
        "# Lista com somente as bandas de interesse para a classificação\n",
        "classification_bands = [\"B2\", \"B3\", \"B4\", \"B8\", \"NDVI\"]"
      ]
    },
    {
      "cell_type": "code",
      "execution_count": null,
      "metadata": {
        "id": "XCfoWOzXlghw"
      },
      "outputs": [],
      "source": [
        "# Descarta as bandas usadas para se eliminar efeitos de nuvens.\n",
        "composition = composition.select(classification_bands)\n",
        "composition"
      ]
    },
    {
      "cell_type": "markdown",
      "metadata": {
        "id": "f61IqjgSlghw"
      },
      "source": [
        "## Classificação supervisionada\n"
      ]
    },
    {
      "cell_type": "markdown",
      "metadata": {
        "id": "SqgxzZbhlgh1"
      },
      "source": [
        "### Definindo amostras conhecidas\n"
      ]
    },
    {
      "cell_type": "markdown",
      "metadata": {
        "id": "WefCpg4rlgh1"
      },
      "source": [
        "Vamos começar a definir visualmente regiões conhecidas para treinamento do\n",
        "modelo de classificação.\n",
        "Em outras palavras, precisamos gerar amostras sobre a imagem para que o modelo\n",
        "aprenda a classificar os pixels.\n",
        "\n",
        "Essa é a magia da classificação supervisionada... O ser humano aponta para\n",
        "alguns polígonos e diz para o computador: \"olha, isso aqui é água, isso aqui é\n",
        "vegetação, isso aqui é solo exposto, etc\".\n",
        "Em seguida, o computador aprende a classificar os pixels da imagem de acordo\n",
        "com o que foi definido pelo ser humano.\n"
      ]
    },
    {
      "cell_type": "markdown",
      "metadata": {
        "id": "2KkE_6pJlgh2"
      },
      "source": [
        "Essa é uma etapa tão especial que merece ser apresentada pelo próprio\n",
        "[Dr. Qiusheng Wu](https://github.com/giswqs), criador do `geemap` e\n",
        "Prof. da Universidade do Tennessee, nos EUA.\n",
        "Veja:\n"
      ]
    },
    {
      "cell_type": "code",
      "execution_count": null,
      "metadata": {
        "id": "AcuWK_g5lgh2"
      },
      "outputs": [],
      "source": [
        "import geemap\n",
        "\n",
        "# TODO: the process described in the video is temporally broken\n",
        "# see: https://github.com/gee-community/geemap/discussions/1816\n",
        "geemap.show_youtube(\"https://youtu.be/VWh5PxXPZw0\")"
      ]
    },
    {
      "cell_type": "markdown",
      "metadata": {
        "id": "5J8GMLS1CkND"
      },
      "source": [
        "Vamos definir um dicionário para armazenar os parâmetros de visualização básicos para o mapa.\n"
      ]
    },
    {
      "cell_type": "code",
      "execution_count": null,
      "metadata": {
        "id": "yjfF4KqElgh2"
      },
      "outputs": [],
      "source": [
        "visualization = {\n",
        "    \"min\": 0.0,\n",
        "    \"max\": 0.3,\n",
        "    \"bands\": [\"B4\", \"B3\", \"B2\"],\n",
        "}"
      ]
    },
    {
      "cell_type": "markdown",
      "metadata": {
        "id": "J3cEqdHqCkND"
      },
      "source": [
        "Agora de fato começaremos a definir as regiões de treinamento.\n",
        "Devido a um [erro](https://github.com/gee-community/geemap/discussions/1816) no\n",
        "`geemap`, vamos coletar classe a classe e depois juntar tudo em um único\n",
        "`FeatureCollection`.\n",
        "\n",
        "Você deve seguir os seguintes passos:\n",
        "\n",
        "1. Execute a célula que começa com `my_map = geemap.Map(`\n",
        "2. Clique no botão `toolbar` no canto superior direito do mapa\n",
        "3. Clique no botão `expand tool bar` (sinal de `+`)\n",
        "4. Clique no botão `collect training samples` (símbolo de um dedo indicador)\n",
        "5. Altere o campo `Required` para `classe`\n",
        "6. Altere o campo `Integer` para um número inteiro de sua escolha. Recomenda-se começar com 0 e ir aumentando de 1 em 1 para cada classe. **É extremamente importante que cada classe receba um número diferente neste campo**, por exemplo, 0=agua, 1=vegetacao, 2=solo exposto, etc.\n",
        "7. Altere o campo `Optional` para `label`\n",
        "8. Altere o campo `String` para o nome da classe, por exemplo, `agua`, `vegetacao`, `solo exposto`, etc.\n",
        "9. Clique no botão `Draw a polygon` (símbolo de um hexágono) no canto esquerdo do mapa\n",
        "10. Desenhe um polígono sobre a imagem que aparece no mapa.\n",
        "11. Ao desenhar todos seus polígonos, execute a célula que vem logo em seguida a esta. Não volte a executar a mesma célula novamente, pois isso irá apagar todas as suas amostras de treinamento.\n"
      ]
    },
    {
      "cell_type": "code",
      "execution_count": null,
      "metadata": {
        "id": "S9EhDI-xlgh2"
      },
      "outputs": [],
      "source": [
        "# executar esta célula e desenhar polígonos de AGUA\n",
        "my_map = geemap.Map(lite_mode=False)\n",
        "my_map.set_center(-46.711, -23.641, 12)\n",
        "my_map.addLayer(composition, visualization, \"mosaico\")\n",
        "my_map"
      ]
    },
    {
      "cell_type": "code",
      "execution_count": null,
      "metadata": {
        "id": "7QPdXe-Tlgh2"
      },
      "outputs": [],
      "source": [
        "# executar esta célula somente após desenhar todos os polígonos de AGUA\n",
        "agua = my_map.user_rois\n",
        "agua"
      ]
    },
    {
      "cell_type": "code",
      "execution_count": null,
      "metadata": {
        "id": "163ul0aIlgh3"
      },
      "outputs": [],
      "source": [
        "# executar esta célula e desenhar polígonos de VEGETACAO RASTEIRA\n",
        "my_map = geemap.Map(lite_mode=False)\n",
        "my_map.set_center(-46.711, -23.641, 12)\n",
        "my_map.addLayer(composition, visualization, \"mosaico\")\n",
        "my_map"
      ]
    },
    {
      "cell_type": "code",
      "execution_count": null,
      "metadata": {
        "id": "9IES20Fblgh3"
      },
      "outputs": [],
      "source": [
        "# executar esta célula somente após desenhar todos os polígonos de VEGETACAO RASTEIRA\n",
        "vegeta_baixa = my_map.user_rois\n",
        "vegeta_baixa"
      ]
    },
    {
      "cell_type": "code",
      "execution_count": null,
      "metadata": {
        "id": "YcLwEG8hlgh3"
      },
      "outputs": [],
      "source": [
        "# executar esta célula e desenhar polígonos de VEGETACAO ALTA\n",
        "my_map = geemap.Map(lite_mode=False)\n",
        "my_map.set_center(-46.711, -23.641, 12)\n",
        "my_map.addLayer(composition, visualization, \"mosaico\")\n",
        "my_map"
      ]
    },
    {
      "cell_type": "code",
      "execution_count": null,
      "metadata": {
        "id": "dv9fLsv4lgh3"
      },
      "outputs": [],
      "source": [
        "# executar esta célula somente após desenhar todos os polígonos de VEGETACAO ALTA\n",
        "vegeta_alta = my_map.user_rois\n",
        "vegeta_alta"
      ]
    },
    {
      "cell_type": "code",
      "execution_count": null,
      "metadata": {
        "id": "1QjNOnFOlgh3"
      },
      "outputs": [],
      "source": [
        "# executar esta célula e desenhar polígonos de CONSTRUÇÕES\n",
        "my_map = geemap.Map(lite_mode=False)\n",
        "my_map.set_center(-46.711, -23.641, 12)\n",
        "my_map.addLayer(composition, visualization, \"mosaico\")\n",
        "my_map"
      ]
    },
    {
      "cell_type": "code",
      "execution_count": null,
      "metadata": {
        "id": "hXhjeJNalgh3"
      },
      "outputs": [],
      "source": [
        "# executar esta célula somente após desenhar todos os polígonos de CONSTRUÇÕES\n",
        "construcoes = my_map.user_rois\n",
        "construcoes"
      ]
    },
    {
      "cell_type": "code",
      "execution_count": null,
      "metadata": {
        "id": "cszhTPEflgh4"
      },
      "outputs": [],
      "source": [
        "# executar esta célula e desenhar polígonos de SOLO EXPOSTO\n",
        "my_map = geemap.Map(lite_mode=False)\n",
        "my_map.set_center(-46.711, -23.641, 12)\n",
        "my_map.addLayer(composition, visualization, \"mosaico\")\n",
        "my_map"
      ]
    },
    {
      "cell_type": "code",
      "execution_count": null,
      "metadata": {
        "id": "MvCvIM0hlgh4"
      },
      "outputs": [],
      "source": [
        "# executar esta célula somente após desenhar todos os polígonos de SOLO EXPOSTO\n",
        "solo_exposto = my_map.user_rois\n",
        "solo_exposto"
      ]
    },
    {
      "cell_type": "markdown",
      "metadata": {
        "id": "EV_YjT7jlgh4"
      },
      "source": [
        "### Mesclando amostras em uma única feature collection\n"
      ]
    },
    {
      "cell_type": "markdown",
      "metadata": {
        "id": "rq4hqe3Algh4"
      },
      "source": [
        "Os objetos `agua`, `vegeta_baixa`, `vegeta_alta`, `construcoes` e `solo_exposto`\n",
        "são do tipo `ee.FeatureCollection`.\n",
        "Vamos mesclar todos em uma única feature collection para facilitar a manipulação\n",
        "dos dados.\n",
        "Utilizaremos o método `merge()` do GEE.\n"
      ]
    },
    {
      "cell_type": "code",
      "execution_count": null,
      "metadata": {
        "id": "4tkh34fqlgh5"
      },
      "outputs": [],
      "source": [
        "# Criação de um único objeto do tipo ee.FeatureCollection com todos os objetos.\n",
        "collection = (\n",
        "    agua.merge(vegeta_baixa).merge(vegeta_alta).merge(construcoes).merge(solo_exposto)\n",
        ")\n",
        "collection"
      ]
    },
    {
      "cell_type": "markdown",
      "metadata": {
        "id": "CNLRKjphlgh5"
      },
      "source": [
        "### Sampling\n"
      ]
    },
    {
      "cell_type": "markdown",
      "metadata": {
        "id": "bHvnDZ7vlgh5"
      },
      "source": [
        "O procedimento anterior apenas delimitou as regiões de onde se deseja coletar\n",
        "amostra, associando-as com suas respectivas classes, e não colheu nenhuma\n",
        "amostra propriamente.\n",
        "\n",
        "Vamos fazer a coleta dos valores de pixels nas regiões.\n"
      ]
    },
    {
      "cell_type": "markdown",
      "metadata": {
        "id": "seEpavuOlgh5"
      },
      "source": [
        "Adicionalmente, vamos definir a escala que queremos trabalhar, nesse caso 10 metros pois é o\n",
        "menor valor (mais preciso) disponível para o Sentinel-2.\n"
      ]
    },
    {
      "cell_type": "code",
      "execution_count": null,
      "metadata": {
        "id": "Zhfpv_mTlgh5"
      },
      "outputs": [],
      "source": [
        "# Ajuste este valor para aumentar ou diminuir a área de amostragem\n",
        "SCALE = 10  # meters"
      ]
    },
    {
      "cell_type": "code",
      "execution_count": null,
      "metadata": {
        "id": "yLa7tWmAlgh6"
      },
      "outputs": [],
      "source": [
        "# Extrai o valor de todos os pixels nas regiões amostradas.\n",
        "amostra_treinamento = composition.sampleRegions(\n",
        "    collection=collection, properties=[\"classe\"], scale=SCALE\n",
        ")"
      ]
    },
    {
      "cell_type": "code",
      "execution_count": null,
      "metadata": {
        "id": "I2_UmoQkH7DW"
      },
      "outputs": [],
      "source": [
        "amostra_treinamento"
      ]
    },
    {
      "cell_type": "markdown",
      "metadata": {
        "id": "yDnUqafjlgh6"
      },
      "source": [
        "### Treinamento\n"
      ]
    },
    {
      "cell_type": "markdown",
      "metadata": {
        "id": "qwU8jT6Elgh6"
      },
      "source": [
        "Para treinar o modelo, basta utilizar um classificador com os parâmetros desejados\n",
        "e utilizar o método `train()`.\n",
        "\n",
        "Vamos utilizar o classificador [Random Forest](https://developers.google.com/earth-engine/apidocs/ee-classifier-smilerandomforest).\n",
        "\n",
        "O primeiro parâmetro do `train()` é a amostra a ser utilizada para treinar o modelo, o segundo é a propriedade que contém o número que identifica a classe e o último, a lista com as bandas que serão utilizadas para classificação.\n",
        "\n",
        "Na instanciação do classificador, `smileRandomForest()`, o parâmetro é a quantidade de árvores de decisão que devem ser criadas.\n",
        "Esse valor pode, e deve, ser ajustado de acordo com os resultados no conjunto de validação.\n",
        "\n",
        "Outros parâmetros podem ser encontrados na documentação do GEE e a explicação da utilidade dos mesmos em literatura apropriada.\n"
      ]
    },
    {
      "cell_type": "code",
      "execution_count": null,
      "metadata": {
        "id": "5IEU-eLdlgh6"
      },
      "outputs": [],
      "source": [
        "# Instancia um classificador na memória com os parâmetros dados e treinando no conjunto de treinamento.\n",
        "classificador_treinado = ee.Classifier.smileRandomForest(50).train(\n",
        "    amostra_treinamento, \"classe\", classification_bands\n",
        ")\n",
        "classificador_treinado"
      ]
    },
    {
      "cell_type": "markdown",
      "metadata": {
        "id": "2KL1NGE3lgh6"
      },
      "source": [
        "Um primeiro teste pode ser feito com a própria amostra de treinamento, com a criação da matriz de confusão a partir do método `confusionMatrix()`.\n",
        "\n",
        "A acurácia provavelmente será altíssima, visto que foi o próprio conjunto utilizado no treinamento que foi avaliado.\n",
        "\n",
        "Caso o desempenho tenha sido ruim sobre o conjunto de treinamento, é um provável caso de [underfitting](https://en.wikipedia.org/wiki/Overfitting).\n"
      ]
    },
    {
      "cell_type": "code",
      "execution_count": null,
      "metadata": {
        "id": "-IUSQI8elgh7"
      },
      "outputs": [],
      "source": [
        "# // Matriz de confusão do conjunto de treinamento e acurácia.\n",
        "matriz_confusao = classificador_treinado.confusionMatrix()\n",
        "matriz_confusao"
      ]
    },
    {
      "cell_type": "code",
      "execution_count": null,
      "metadata": {
        "id": "mQXe2wTdooDP"
      },
      "outputs": [],
      "source": [
        "print(\n",
        "    f\"Acurácia no conjunto de treinamento: {matriz_confusao.accuracy().getInfo()*100:.4f}%\"\n",
        ")"
      ]
    },
    {
      "cell_type": "markdown",
      "metadata": {
        "id": "Sz_Osvsalgh7"
      },
      "source": [
        "### Classificação\n"
      ]
    },
    {
      "cell_type": "markdown",
      "metadata": {
        "id": "CeeopB_nlgh7"
      },
      "source": [
        "Para classificar a imagem a partir do treinamento, invoca-se o método `classify()` a partir da imagem e com o classificador treinado escolhido como parâmetro.\n",
        "\n",
        "O resultado é um objeto do tipo imagem com uma única banda em que os pixels\n",
        "armazenam o valor relativo às classes que foram atribuídas no momento do desenho\n",
        "das regiões das amostras em tela.\n"
      ]
    },
    {
      "cell_type": "code",
      "execution_count": null,
      "metadata": {
        "id": "DCYiVBRdlgh8"
      },
      "outputs": [],
      "source": [
        "# Classifica a imagem com o classificador treinado e com os parâmetros definidos.\n",
        "imagem_classificada = composition.classify(classificador_treinado)\n",
        "imagem_classificada"
      ]
    },
    {
      "cell_type": "markdown",
      "metadata": {
        "id": "A_WJkr8Flgh8"
      },
      "source": [
        "### Visualização\n"
      ]
    },
    {
      "cell_type": "markdown",
      "metadata": {
        "id": "8ssFJP7Tlgh8"
      },
      "source": [
        "Para visualizar a imagem, primeiro uma paleta de cores deve ser definida.\n",
        "\n",
        "Essa paleta deve ser feita como uma lista de strings em que cada cor é uma sequência de seis dígitos em hexadecimal.\n",
        "\n",
        "A ordem em que as cores estão na string representa o número inteiro associado com a classe a partir de 0.\n"
      ]
    },
    {
      "cell_type": "code",
      "execution_count": null,
      "metadata": {
        "id": "XqOQpYbLlgh8"
      },
      "outputs": [],
      "source": [
        "# Paleta de cores para adicionar a imagem classificada ao mapa.\n",
        "paleta_cores_classes = [\n",
        "    \"#1f77b4\",  # Água - um azul mais suave e claro.\n",
        "    \"#98df8a\",  # Vegetação rasteira - um verde claro para diferenciar da vegetação alta.\n",
        "    \"#2ca02c\",  # Vegetação alta - um verde mais vibrante e menos saturado.\n",
        "    \"#7f7f7f\",  # Construção - um cinza médio que representa áreas construídas.\n",
        "    \"#ff7f0e\",  # Solo exposto - um laranja mais vibrante e atraente.\n",
        "]"
      ]
    },
    {
      "cell_type": "markdown",
      "metadata": {
        "id": "F6jQT3gtlgh8"
      },
      "source": [
        "Finalmente, podemos visualizar a imagem classificada.\n"
      ]
    },
    {
      "cell_type": "code",
      "execution_count": null,
      "metadata": {
        "id": "ZQbfs3Etlgh9"
      },
      "outputs": [],
      "source": [
        "final_map = geemap.Map(lite_mode=False)\n",
        "final_map.centerObject(roi, 12)\n",
        "vis_params = {\n",
        "    \"min\": 0,\n",
        "    \"max\": 4,\n",
        "    \"bands\": [\"classification\"],\n",
        "    \"palette\": paleta_cores_classes,\n",
        "}\n",
        "final_map.addLayer(\n",
        "    imagem_classificada.clip(roi), vis_params, \"Imagem Classificada\", True\n",
        ")\n",
        "final_map"
      ]
    },
    {
      "cell_type": "markdown",
      "metadata": {
        "id": "ph_rQKR5lgh9"
      },
      "source": [
        "## Atividade\n"
      ]
    },
    {
      "cell_type": "markdown",
      "metadata": {
        "id": "VZYWpJr7lgh9"
      },
      "source": [
        "Este laboratório não requer uma atividade específica.\n",
        "Você pode aproveitar esse tempo para aplicar os conceitos no seu trabalho prático.\n"
      ]
    },
    {
      "cell_type": "code",
      "execution_count": null,
      "metadata": {
        "id": "SZVmJoxICkNN"
      },
      "outputs": [],
      "source": [
        "# Exportar a imagem classificada para um shapefile\n",
        "geemap.ee_export_vector(\n",
        "    ee_object=collection,\n",
        "    filename=\"collection.shp\",\n",
        "    selectors=None,\n",
        "    verbose=True,\n",
        "    keep_zip=True,\n",
        "    timeout=300,\n",
        "    proxies=None,\n",
        ")"
      ]
    },
    {
      "cell_type": "code",
      "execution_count": null,
      "metadata": {
        "id": "vaPPGTrpQFvz"
      },
      "outputs": [],
      "source": [
        "# %pip install pycrs"
      ]
    },
    {
      "cell_type": "code",
      "execution_count": null,
      "metadata": {
        "id": "86Mov3n4P9sR"
      },
      "outputs": [],
      "source": [
        "geemap.shp_to_ee(\"collection.shp\")"
      ]
    }
  ],
  "metadata": {
    "colab": {
      "provenance": []
    },
    "kernelspec": {
      "display_name": ".venv",
      "language": "python",
      "name": "python3"
    },
    "language_info": {
      "codemirror_mode": {
        "name": "ipython",
        "version": 3
      },
      "file_extension": ".py",
      "mimetype": "text/x-python",
      "name": "python",
      "nbconvert_exporter": "python",
      "pygments_lexer": "ipython3",
      "version": "3.10.11"
    }
  },
  "nbformat": 4,
  "nbformat_minor": 0
}