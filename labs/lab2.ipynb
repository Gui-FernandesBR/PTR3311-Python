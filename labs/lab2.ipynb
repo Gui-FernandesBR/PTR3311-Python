{
 "cells": [
  {
   "cell_type": "markdown",
   "metadata": {},
   "source": [
    "# Laboratório 2\n",
    "\n",
    "Estatísticas, histogramas, contraste e composições de imagens no GEE\n"
   ]
  },
  {
   "cell_type": "markdown",
   "metadata": {},
   "source": [
    "Objetivos:\n",
    "\n",
    "1. Operações para calcular estatísticas dos valores dos pixels nas bandas de um raster e gerar gráficos de suas distribuições\n",
    "2. Extrair valores de um pixel em uma imagem\n",
    "3. Ajustar o contraste de uma imagem adicionada ao mapa e como formar composições coloridas com as bandas dos dados\n"
   ]
  },
  {
   "cell_type": "markdown",
   "metadata": {},
   "source": [
    "## Introdução\n"
   ]
  },
  {
   "cell_type": "code",
   "execution_count": null,
   "metadata": {},
   "outputs": [],
   "source": [
    "import ee\n",
    "import geemap.geemap as geemap\n",
    "import matplotlib.pyplot as plt"
   ]
  },
  {
   "cell_type": "code",
   "execution_count": null,
   "metadata": {},
   "outputs": [],
   "source": [
    "# Ref: https://developers.google.com/earth-engine/apidocs/ee-authenticate\n",
    "ee.Authenticate()\n",
    "ee.Initialize()"
   ]
  },
  {
   "cell_type": "code",
   "execution_count": null,
   "metadata": {},
   "outputs": [],
   "source": [
    "%matplotlib inline"
   ]
  },
  {
   "cell_type": "markdown",
   "metadata": {},
   "source": [
    "## Desenvolvimento\n"
   ]
  },
  {
   "cell_type": "markdown",
   "metadata": {},
   "source": [
    "Definir um ponto na cidade de São Paulo\n"
   ]
  },
  {
   "cell_type": "code",
   "execution_count": null,
   "metadata": {},
   "outputs": [],
   "source": [
    "lat, lon = -23.5546721, -46.7318389\n",
    "poli_usp_point = ee.Geometry.Point(coords=[lon, lat], proj=\"EPSG:4326\")"
   ]
  },
  {
   "cell_type": "markdown",
   "metadata": {},
   "source": [
    "Definir um bbox na cidade de São Paulo\n",
    "\n",
    "Observação: Fazer a seleção de um polígono retangular pequeno na área de São Paulo para que o processamento fique mais rápido.\n"
   ]
  },
  {
   "cell_type": "code",
   "execution_count": null,
   "metadata": {},
   "outputs": [],
   "source": [
    "sao_paulo_box = ee.Geometry.BBox(\n",
    "    west=-46.81,\n",
    "    south=-23.5,\n",
    "    east=-46.654,\n",
    "    north=-23.7,\n",
    ")"
   ]
  },
  {
   "cell_type": "markdown",
   "metadata": {},
   "source": [
    "### Preparando a coleção\n"
   ]
  },
  {
   "cell_type": "markdown",
   "metadata": {},
   "source": [
    "Importar a coleção de images “Sentinel-2 MSI: MultiSpectral Instrument, Level-1C”\n"
   ]
  },
  {
   "cell_type": "code",
   "execution_count": null,
   "metadata": {},
   "outputs": [],
   "source": [
    "colecao_sentinel2 = ee.ImageCollection(\"COPERNICUS/S2_SR\")\n",
    "# Veja a documentação em: https://developers.google.com/earth-engine/datasets/catalog/COPERNICUS_S2_SR#bands"
   ]
  },
  {
   "cell_type": "markdown",
   "metadata": {},
   "source": [
    "Selecionar apenas as imagens que contém o ponto selecionado\n"
   ]
  },
  {
   "cell_type": "code",
   "execution_count": null,
   "metadata": {},
   "outputs": [],
   "source": [
    "img_histograma = colecao_sentinel2.filterBounds(poli_usp_point)"
   ]
  },
  {
   "cell_type": "markdown",
   "metadata": {},
   "source": [
    "Filtrar apenas imagens em um intervalo de datas desejado\n"
   ]
  },
  {
   "cell_type": "code",
   "execution_count": null,
   "metadata": {},
   "outputs": [],
   "source": [
    "start_date = ee.Date(\"2019-01-01\")\n",
    "end_date = ee.Date(\"2020-01-01\")\n",
    "img_histograma = img_histograma.filterDate(start_date, end_date)"
   ]
  },
  {
   "cell_type": "markdown",
   "metadata": {},
   "source": [
    "Filtrar apenas as imagens com menos de 20% de cobertura de nuvens\n"
   ]
  },
  {
   "cell_type": "code",
   "execution_count": null,
   "metadata": {},
   "outputs": [],
   "source": [
    "img_histograma = img_histograma.filterMetadata(\n",
    "    \"CLOUDY_PIXEL_PERCENTAGE\", \"less_than\", 20\n",
    ")"
   ]
  },
  {
   "cell_type": "markdown",
   "metadata": {},
   "source": [
    "Selecionar apenas a primeira imagem da coleção, pois precisamos de somente uma imagem para o restante da prática\n"
   ]
  },
  {
   "cell_type": "code",
   "execution_count": null,
   "metadata": {},
   "outputs": [],
   "source": [
    "img_histograma = img_histograma.first()"
   ]
  },
  {
   "cell_type": "markdown",
   "metadata": {},
   "source": [
    "Selecionar somente algumas das bandas para análise.\n"
   ]
  },
  {
   "cell_type": "code",
   "execution_count": null,
   "metadata": {},
   "outputs": [],
   "source": [
    "img_histograma = img_histograma.select([\"B2\", \"B4\", \"B3\"])"
   ]
  },
  {
   "cell_type": "markdown",
   "metadata": {},
   "source": [
    "Fazer um recorte (_clip_) da imagem para a área o retângulo que definimos anteriormente\n"
   ]
  },
  {
   "cell_type": "code",
   "execution_count": null,
   "metadata": {},
   "outputs": [],
   "source": [
    "img_histograma = img_histograma.clip(sao_paulo_box)"
   ]
  },
  {
   "cell_type": "markdown",
   "metadata": {},
   "source": [
    "Criar um mapa através do `geemap`, biblioteca de visualização de dados geoespaciais\n"
   ]
  },
  {
   "cell_type": "code",
   "execution_count": null,
   "metadata": {},
   "outputs": [],
   "source": [
    "my_map = geemap.Map(center=[lat, lon], zoom=11)"
   ]
  },
  {
   "cell_type": "markdown",
   "metadata": {},
   "source": [
    "Vamos adicionar uma banda da imagem ao mapa para visualização, isso gerará uma imagem monocromática\n"
   ]
  },
  {
   "cell_type": "code",
   "execution_count": null,
   "metadata": {},
   "outputs": [],
   "source": [
    "my_map.addLayer(\n",
    "    ee_object=img_histograma.select(\"B2\"),\n",
    "    vis_params={},\n",
    "    name=\"Recorte São Paulo - Banda B2\",\n",
    ")\n",
    "# O segundo parâmetro da função, que ajusta a visualização, está vazio para manter os valores do padrão.\n",
    "# O terceiro parâmetro é o título para a camada que é criada no mapa pela função."
   ]
  },
  {
   "cell_type": "markdown",
   "metadata": {},
   "source": [
    "Para visualizar o mapa\n"
   ]
  },
  {
   "cell_type": "code",
   "execution_count": null,
   "metadata": {},
   "outputs": [],
   "source": [
    "my_map"
   ]
  },
  {
   "cell_type": "markdown",
   "metadata": {},
   "source": [
    "Podemos checar o valor da banda B2 para o ponto que criarmos anteriormente:\n"
   ]
  },
  {
   "cell_type": "code",
   "execution_count": null,
   "metadata": {},
   "outputs": [],
   "source": [
    "value = img_histograma.reduceRegion(\n",
    "    reducer=ee.Reducer.mean(), geometry=poli_usp_point, scale=10\n",
    ")\n",
    "\n",
    "print(\"Valor de cada banda no ponto selecionado:\")\n",
    "print(value.getInfo())"
   ]
  },
  {
   "cell_type": "markdown",
   "metadata": {},
   "source": [
    "### Estatísticas dos dados de uma imagem no GEE\n"
   ]
  },
  {
   "cell_type": "markdown",
   "metadata": {},
   "source": [
    "Calcular o desvio padrão dos valores dos pixels de uma imagem com o `Reducer.stdDev()`\n"
   ]
  },
  {
   "cell_type": "code",
   "execution_count": null,
   "metadata": {},
   "outputs": [],
   "source": [
    "dp_pixels_bandas = img_histograma.reduceRegion(\n",
    "    reducer=ee.Reducer.stdDev(), maxPixels=1e9\n",
    ")\n",
    "print(\"Desvio Padrão: \", dp_pixels_bandas.getInfo())\n",
    "\n",
    "# OBS: O parâmetro maxPixels é necessário para evitar erros de memória."
   ]
  },
  {
   "cell_type": "markdown",
   "metadata": {},
   "source": [
    "Calcular a média dos valores dos pixels de uma imagem com o `Reducer.mean()`\n"
   ]
  },
  {
   "cell_type": "code",
   "execution_count": null,
   "metadata": {},
   "outputs": [],
   "source": [
    "media_pixels_bandas = img_histograma.reduceRegion(\n",
    "    reducer=ee.Reducer.mean(), maxPixels=1e9\n",
    ")\n",
    "print(\"Média: \", media_pixels_bandas.getInfo())"
   ]
  },
  {
   "cell_type": "markdown",
   "metadata": {},
   "source": [
    "Calcular a variância dos valores dos pixels de uma imagem com o `Reducer.variance()`\n"
   ]
  },
  {
   "cell_type": "code",
   "execution_count": null,
   "metadata": {},
   "outputs": [],
   "source": [
    "variancia_pixels_bandas = img_histograma.reduceRegion(\n",
    "    reducer=ee.Reducer.variance(), maxPixels=1e9\n",
    ")\n",
    "print(\"Variância: \", variancia_pixels_bandas.getInfo())"
   ]
  },
  {
   "cell_type": "markdown",
   "metadata": {},
   "source": [
    "### Escalonando os valores da imagem\n"
   ]
  },
  {
   "cell_type": "markdown",
   "metadata": {},
   "source": [
    "Os valores das coleções do Sentinel-2 disponíveis no GEE são os valores da reflectância multiplicados por 10.000 (dez mil).\n",
    "Precisamos dividir os valores por 10.000 para obter os valores de reflectância, que devem obrigatoriamente estar entre 0 e 1.\n"
   ]
  },
  {
   "cell_type": "code",
   "execution_count": null,
   "metadata": {},
   "outputs": [],
   "source": [
    "img_histograma_nao_escalonada = img_histograma.divide(ee.Image.constant(10000))"
   ]
  },
  {
   "cell_type": "markdown",
   "metadata": {},
   "source": [
    "### Gerando histogramas\n"
   ]
  },
  {
   "cell_type": "markdown",
   "metadata": {},
   "source": [
    "Vamos gerar histogramas para visualizar a distribuição dos valores dos pixels de uma imagem.\n",
    "Porém antes de gerar o histograma, vamos recalcular os valores das estatísticas para a imagem escalonada.\n"
   ]
  },
  {
   "cell_type": "code",
   "execution_count": null,
   "metadata": {},
   "outputs": [],
   "source": [
    "dp_pixels_bandas = img_histograma_nao_escalonada.reduceRegion(\n",
    "    reducer=ee.Reducer.stdDev(), maxPixels=1e9\n",
    ")\n",
    "print(\"Desvio Padrão Imagem Não Escalonada: \")\n",
    "for key, value in dp_pixels_bandas.getInfo().items():\n",
    "    print(f\"\\tBanda {key}: {value:.4f}\")"
   ]
  },
  {
   "cell_type": "code",
   "execution_count": null,
   "metadata": {},
   "outputs": [],
   "source": [
    "media_pixels_bandas = img_histograma_nao_escalonada.reduceRegion(\n",
    "    reducer=ee.Reducer.mean(), maxPixels=1e9\n",
    ")\n",
    "print(\"Média Imagem Não Escalonada: \")\n",
    "for key, value in media_pixels_bandas.getInfo().items():\n",
    "    print(f\"\\tBanda {key}: {value:.4f}\")"
   ]
  },
  {
   "cell_type": "code",
   "execution_count": null,
   "metadata": {},
   "outputs": [],
   "source": [
    "variancia_pixels_bandas = img_histograma_nao_escalonada.reduceRegion(\n",
    "    reducer=ee.Reducer.variance(), maxPixels=1e9\n",
    ")\n",
    "print(\"Variância Imagem Não Escalonada: \")\n",
    "for key, value in variancia_pixels_bandas.getInfo().items():\n",
    "    print(f\"\\tBanda {key}: {value:.4f}\")"
   ]
  },
  {
   "cell_type": "markdown",
   "metadata": {},
   "source": [
    "Agora, para criação do histograma, vamos selecionar somente a banda B2 da imagem\n"
   ]
  },
  {
   "cell_type": "code",
   "execution_count": null,
   "metadata": {},
   "outputs": [],
   "source": [
    "banda_B2 = img_histograma_nao_escalonada.select(\"B2\")"
   ]
  },
  {
   "cell_type": "markdown",
   "metadata": {},
   "source": [
    "Utilizamos o `ee.Reducer.histogram()` para gerar o histograma.\n"
   ]
  },
  {
   "cell_type": "code",
   "execution_count": null,
   "metadata": {},
   "outputs": [],
   "source": [
    "# maxBuckets: é o número máximo de buckets (colunas) no histograma. Esse valor deve ser uma potência de 2, caso não seja, será arredondado para a potência de 2 mais próxima.\n",
    "# minBucketWidth: é a largura mínima de cada bucket (coluna) do histograma.\n",
    "# maxPixels: é o número máximo de pixels que serão usados para calcular o histograma.\n",
    "histograma_b2 = banda_B2.reduceRegion(\n",
    "    reducer=ee.Reducer.histogram(maxBuckets=1000, minBucketWidth=0.00001), maxPixels=1e9\n",
    ").getInfo()[\"B2\"]"
   ]
  },
  {
   "cell_type": "markdown",
   "metadata": {},
   "source": [
    "A variável `histograma` é um dicionário, e dela vamos extrair as listas necessárias para realizar o gráfico\n"
   ]
  },
  {
   "cell_type": "code",
   "execution_count": null,
   "metadata": {},
   "outputs": [],
   "source": [
    "frequencias_b2 = histograma_b2[\"histogram\"]\n",
    "bins_b2 = histograma_b2[\"bucketMeans\"]"
   ]
  },
  {
   "cell_type": "markdown",
   "metadata": {},
   "source": [
    "Finalmente, vamos plotar o histograma com o módulo `matplotlib.pyplot` (ou `plt`) que foi importado no início do notebook.\n"
   ]
  },
  {
   "cell_type": "code",
   "execution_count": null,
   "metadata": {},
   "outputs": [],
   "source": [
    "fig, ax = plt.subplots(figsize=(9, 5))\n",
    "ax.bar(bins_b2, frequencias_b2, width=bins_b2[1] - bins_b2[0], color=\"gray\", alpha=0.7)\n",
    "ax.plot(bins_b2, frequencias_b2, color=\"blue\", linewidth=2, alpha=1, label=\"B2\")\n",
    "ax.set_title(\"Histograma para reflectância em B2\")\n",
    "ax.set_xlabel(\"Reflectância\")\n",
    "ax.set_ylabel(\"Frequência\")\n",
    "ax.set_xlim(0, 1)\n",
    "ax.grid(True, alpha=0.3)\n",
    "ax.legend()\n",
    "plt.show()"
   ]
  },
  {
   "cell_type": "markdown",
   "metadata": {},
   "source": [
    "### Gerando histograma para várias bandas\n"
   ]
  },
  {
   "cell_type": "markdown",
   "metadata": {},
   "source": [
    "Primeiro vamos obter o histograma para todas as bandas da imagem de uma vez só.\n",
    "Para isso, basta alterar a imagem que estamos utilizando para a imagem original (sem filtrar a banda B2).\n"
   ]
  },
  {
   "cell_type": "code",
   "execution_count": null,
   "metadata": {},
   "outputs": [],
   "source": [
    "histograma = img_histograma_nao_escalonada.reduceRegion(\n",
    "    reducer=ee.Reducer.histogram(maxBuckets=2**9, minBucketWidth=0.001), maxPixels=1e9\n",
    ").getInfo()"
   ]
  },
  {
   "cell_type": "markdown",
   "metadata": {},
   "source": [
    "Utilizar um `for` _loop_ do Python para gerar diferentes histogramas para cada banda da imagem.\n"
   ]
  },
  {
   "cell_type": "code",
   "execution_count": null,
   "metadata": {},
   "outputs": [],
   "source": [
    "fig, ax = plt.subplots(figsize=(9, 5))\n",
    "\n",
    "for i, banda in enumerate([\"B2\", \"B4\", \"B3\"]):\n",
    "    frequencias = histograma[banda][\"histogram\"]\n",
    "    bins = histograma[banda][\"bucketMeans\"]\n",
    "\n",
    "    ax.bar(bins, frequencias, width=bins[1] - bins[0], alpha=0.3)\n",
    "    ax.plot(bins, frequencias, linewidth=2, label=banda)\n",
    "    ax.set_title(f\"Histograma da reflectância em diferentes bandas\")\n",
    "    ax.set_xlabel(\"Reflectância\")\n",
    "    ax.set_ylabel(\"Frequência\")\n",
    "    ax.set_xlim([0, 1])\n",
    "\n",
    "plt.grid(True, alpha=0.3)\n",
    "plt.legend(loc=\"upper right\")\n",
    "plt.show()"
   ]
  },
  {
   "cell_type": "markdown",
   "metadata": {},
   "source": [
    "### Ajustando o contraste de uma imagem\n"
   ]
  },
  {
   "cell_type": "markdown",
   "metadata": {},
   "source": [
    "A imagem que visualizamos anteriormente está com o contraste muito baixo, pois foi adicionada com os valores padrões.\n",
    "Para ajustar, podemos seguir dois caminhos:\n",
    "\n",
    "1. Editar o parâmetro \"Range\" no `control_layer` do mapa, que fica no canto superior direito do mapa\n",
    "2. Remover o _layer_ e adicionar novamente com os parâmetros desejados\n",
    "\n",
    "Vamos seguir o caminho 2 na célula a seguir, porém o resultado é o mesmo.\n"
   ]
  },
  {
   "cell_type": "code",
   "execution_count": null,
   "metadata": {},
   "outputs": [],
   "source": [
    "# Remove a camada que tenha o nome \"Recorte São Paulo - Banda B2\"\n",
    "# TODO: deve ter uma forma melhor de fazer isso sem usar comprehension list\n",
    "my_map.remove_layer(\n",
    "    x for x in my_map.layers if x.name == \"Recorte São Paulo - Banda B2\"\n",
    ")\n",
    "\n",
    "# Define parâmetros de visualização\n",
    "vis_params = {\n",
    "    \"bands\": [\"B2\"],\n",
    "    \"min\": 0,\n",
    "    \"max\": 1,\n",
    "    \"gamma\": 1,\n",
    "}\n",
    "\n",
    "# Adiciona a imagem novamente ao mapa\n",
    "my_map.addLayer(\n",
    "    ee_object=img_histograma_nao_escalonada.select(\"B2\"),\n",
    "    vis_params=vis_params,\n",
    "    name=\"Recorte São Paulo - Banda B2\",\n",
    ")"
   ]
  },
  {
   "cell_type": "markdown",
   "metadata": {},
   "source": [
    "Finalmente, para visualizar o mapa com o contraste ajustado, basta executar a célula abaixo.\n"
   ]
  },
  {
   "cell_type": "code",
   "execution_count": null,
   "metadata": {},
   "outputs": [],
   "source": [
    "my_map"
   ]
  },
  {
   "cell_type": "markdown",
   "metadata": {},
   "source": [
    "### Composição colorida com ajuste de contraste simples\n"
   ]
  },
  {
   "cell_type": "markdown",
   "metadata": {},
   "source": [
    "Eu sei que vocês estão pensando: \"Mas eu quero ver uma imagem colorida, não uma imagem em tons de cinza!\". Para isso vamos utilizar o método `addLayer()` novamente, porém agora vamos adicionar as bandas RGB da imagem.\n",
    "\n",
    "As bandas RGB são as bandas 4, 3 e 2, respectivamente. Essa informação é retirada da documentação da coleção Sentinel-2 no GEE: https://developers.google.com/earth-engine/datasets/catalog/COPERNICUS_S2_SR\n"
   ]
  },
  {
   "cell_type": "code",
   "execution_count": null,
   "metadata": {},
   "outputs": [],
   "source": [
    "vis_params = {\n",
    "    \"bands\": [\"B4\", \"B3\", \"B2\"],\n",
    "    \"min\": 0.04,\n",
    "    \"max\": 0.4,\n",
    "    \"gamma\": 1,\n",
    "}\n",
    "# Para escolher os valores de “min” e “max”, uma alternativa é utilizar os\n",
    "# histogramas gerados anteriormente e escolher visualmente os pontos de corte\n",
    "\n",
    "my_map.addLayer(\n",
    "    ee_object=img_histograma_nao_escalonada.select([\"B4\", \"B3\", \"B2\"]),\n",
    "    vis_params=vis_params,\n",
    "    name=\"RGB\",\n",
    ")"
   ]
  },
  {
   "cell_type": "code",
   "execution_count": null,
   "metadata": {},
   "outputs": [],
   "source": [
    "my_map"
   ]
  },
  {
   "cell_type": "markdown",
   "metadata": {},
   "source": [
    "## Indo além\n"
   ]
  },
  {
   "cell_type": "markdown",
   "metadata": {},
   "source": [
    "### Composição colorida com ajustes de contraste individuais\n"
   ]
  },
  {
   "cell_type": "markdown",
   "metadata": {},
   "source": [
    "É possível fazer um mapeamento mais preciso de máximos e mínimos para cada banda, e assim ajustar de forma mais apropriada o contraste da imagem que será exibida na interface do GEE.\n",
    "\n",
    "Além disso, vamos utilizar os histogramas que geramos anteriormente para definir os valores de máximos e mínimos para cada banda de forma automática.\n"
   ]
  },
  {
   "cell_type": "markdown",
   "metadata": {},
   "source": [
    "Para começar, vamos calcular os valores de máximos para exibição de cada banda.\n",
    "Vamos definir que o valor máximo de cada banda será a média mais uma vez o desvio padrão.\n"
   ]
  },
  {
   "cell_type": "code",
   "execution_count": null,
   "metadata": {},
   "outputs": [],
   "source": [
    "max_intervalos = []\n",
    "\n",
    "media_values = media_pixels_bandas.getInfo().values()\n",
    "dp_values = dp_pixels_bandas.getInfo().values()\n",
    "\n",
    "for mean, dp in zip(media_values, dp_values):\n",
    "    max_intervalos.append(mean + 2.5 * dp)\n",
    "\n",
    "# Obs.: A função zip() retorna um iterador de tuplas, onde a i-ésima tupla contém\n",
    "# o i-ésimo elemento de cada um dos argumentos sequenciais ou iteráveis.\n",
    "\n",
    "max_intervalos"
   ]
  },
  {
   "cell_type": "markdown",
   "metadata": {},
   "source": [
    "Também precisamos definir os valores mínimos para cada banda.\n",
    "Apenas para nos familiarizarmos com a sintaxe, dessa vez vamos evitar utilizar o `for` _loop_ do Python, em vez disso, vamos utilizar compreensão de listas (_list comprehension_).\n",
    "Note que o resultado é o mesmo, apesar de ser um pouco mais difícil de ler, mas é uma forma de escrever código mais \"pythônica\".\n"
   ]
  },
  {
   "cell_type": "code",
   "execution_count": null,
   "metadata": {},
   "outputs": [],
   "source": [
    "min_intervalos = [\n",
    "    mean - 2.5 * dp\n",
    "    for mean, dp in zip(\n",
    "        media_pixels_bandas.getInfo().values(), dp_pixels_bandas.getInfo().values()\n",
    "    )\n",
    "]\n",
    "min_intervalos"
   ]
  },
  {
   "cell_type": "markdown",
   "metadata": {},
   "source": [
    "Agora adicionamos a imagem ao mapa com os valores de máximos e mínimos definidos para cada banda.\n"
   ]
  },
  {
   "cell_type": "code",
   "execution_count": null,
   "metadata": {},
   "outputs": [],
   "source": [
    "vis_params = {\n",
    "    \"bands\": [\"B4\", \"B3\", \"B2\"],\n",
    "    \"min\": min_intervalos,\n",
    "    \"max\": max_intervalos,\n",
    "    \"gamma\": 1.4,\n",
    "}\n",
    "\n",
    "my_map.addLayer(\n",
    "    ee_object=img_histograma_nao_escalonada.select([\"B4\", \"B3\", \"B2\"]),\n",
    "    vis_params=vis_params,\n",
    "    name=\"RGB advanced\",\n",
    ")"
   ]
  },
  {
   "cell_type": "markdown",
   "metadata": {},
   "source": [
    "E finalmente podemos visualizar o mapa com a imagem colorida e com o contraste ajustado.\n"
   ]
  },
  {
   "cell_type": "code",
   "execution_count": null,
   "metadata": {},
   "outputs": [],
   "source": [
    "my_map"
   ]
  },
  {
   "cell_type": "markdown",
   "metadata": {},
   "source": [
    "## Atividade\n"
   ]
  },
  {
   "cell_type": "markdown",
   "metadata": {},
   "source": [
    "Assim como no laboratório anterior, preencha os campos abaixo e submeta este _notebook_ para avaliação.\n"
   ]
  },
  {
   "cell_type": "code",
   "execution_count": null,
   "metadata": {},
   "outputs": [],
   "source": [
    "p1 = \"1 - Qual o seu número USP?\"\n",
    "r1 = int()  # preencha com um número inteiro, ex: int(12345678)\n",
    "\n",
    "p2 = \"2 - Qual foi o valor médio de pixel na banda 2?\"\n",
    "r2 = int()  # preencha com um número inteiro, ex: int(12345678)\n",
    "\n",
    "p3 = \"3 - Calcule o desvio padrão da banda 5.\"\n",
    "r3 = float()  # preencha com um número real\n",
    "\n",
    "p4 = \"4 - O que a banda 5 representa no conjunto de dados Sentinel-2? (ver a documentação)\"\n",
    "r4 = int()  # preencha com um número inteiro"
   ]
  },
  {
   "cell_type": "markdown",
   "metadata": {},
   "source": [
    "Não altere a célula abaixo, apenas execute-a para carregar o formulário de submissão.\n"
   ]
  },
  {
   "cell_type": "code",
   "execution_count": null,
   "metadata": {},
   "outputs": [],
   "source": [
    "MY_FINAL_RESULT = {\n",
    "    \"p1\": r1,\n",
    "    \"p2\": r2,\n",
    "    \"p3\": r3,\n",
    "    \"p4\": r4,\n",
    "}\n",
    "\n",
    "MY_FINAL_RESULT"
   ]
  }
 ],
 "metadata": {
  "kernelspec": {
   "display_name": ".venv",
   "language": "python",
   "name": "python3"
  },
  "language_info": {
   "codemirror_mode": {
    "name": "ipython",
    "version": 3
   },
   "file_extension": ".py",
   "mimetype": "text/x-python",
   "name": "python",
   "nbconvert_exporter": "python",
   "pygments_lexer": "ipython3",
   "version": "3.10.9"
  },
  "orig_nbformat": 4
 },
 "nbformat": 4,
 "nbformat_minor": 2
}
