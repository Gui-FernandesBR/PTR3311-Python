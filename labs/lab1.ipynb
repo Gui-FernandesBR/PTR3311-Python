{
 "cells": [
  {
   "cell_type": "markdown",
   "metadata": {},
   "source": [
    "# Laboratório 1\n",
    "\n",
    "Introdução ao processamento digital de imagens, resoluções, metadados e busca por imagens no GEE\n"
   ]
  },
  {
   "cell_type": "markdown",
   "metadata": {},
   "source": [
    "Objetivos:\n",
    "\n",
    "1. Familiarizar-se com o Google Earth Engine através do Google Colab\n",
    "2. Manipulação de Dados Geoespaciais provindos de sensores remotos (satélites)\n",
    "3. Visualização desses Dados Geoespaciais\n"
   ]
  },
  {
   "cell_type": "markdown",
   "metadata": {},
   "source": [
    "Ferramentas:\n",
    "\n",
    "- 🐍 [Python](https://www.python.org/)\n",
    "- 🌍 [Google Earth Engine (GEE)](https://earthengine.google.com/)\n",
    "- 📊 [Google Colaboratory (Colab)](https://colab.research.google.com/notebooks/intro.ipynb#recent=true)\n",
    "- 🗺️ [geemap](https://geemap.org/)\n"
   ]
  },
  {
   "cell_type": "code",
   "execution_count": null,
   "metadata": {},
   "outputs": [],
   "source": [
    "# OBS: Em Python, usamos o snake_case para nomes de variáveis, seguindo a convenção.\n",
    "# Porém, em alguns métodos nativos do GEE você pode encontrar o PascalCase ou o camelCase.\n",
    "# Não se assuste, é normal. Apenas siga o padrão do método que você está usando."
   ]
  },
  {
   "cell_type": "markdown",
   "metadata": {},
   "source": [
    "## Instalação\n"
   ]
  },
  {
   "cell_type": "markdown",
   "metadata": {},
   "source": [
    "Precisamos importar as bibliotecas necessárias para trabalharmos nesta sessão do Colab.\n"
   ]
  },
  {
   "cell_type": "code",
   "execution_count": null,
   "metadata": {},
   "outputs": [],
   "source": [
    "import ee\n",
    "import geemap.geemap as geemap\n",
    "import geemap.plotlymap"
   ]
  },
  {
   "cell_type": "markdown",
   "metadata": {},
   "source": [
    "Após importar, o earth-engine-api exige que façamos a autenticação com uma conta Google. Para isso, basta executar o código abaixo e seguir as instruções.\n"
   ]
  },
  {
   "cell_type": "code",
   "execution_count": null,
   "metadata": {},
   "outputs": [],
   "source": [
    "# Ref: https://developers.google.com/earth-engine/apidocs/ee-authenticate\n",
    "ee.Authenticate()\n",
    "ee.Initialize()"
   ]
  },
  {
   "cell_type": "markdown",
   "metadata": {},
   "source": [
    "A cada vez que você autenticar, um token diferente será gerado. Portanto, não se preocupe em guardar o token gerado.\n"
   ]
  },
  {
   "cell_type": "markdown",
   "metadata": {},
   "source": [
    "### Não conseguiu instalar? 😩\n"
   ]
  },
  {
   "cell_type": "markdown",
   "metadata": {},
   "source": [
    "Felizmente, o Colab já vem com várias bibliotecas instaladas, mas caso exista algum problema, podemos instalar as bibliotecas necessárias através do comando `pip install`, por exemplo:\n"
   ]
  },
  {
   "cell_type": "code",
   "execution_count": null,
   "metadata": {},
   "outputs": [],
   "source": [
    "# %pip install geemap"
   ]
  },
  {
   "cell_type": "markdown",
   "metadata": {},
   "source": [
    "Para checar se deu tudo certo agora, você pode rodar:\n"
   ]
  },
  {
   "cell_type": "code",
   "execution_count": null,
   "metadata": {},
   "outputs": [],
   "source": [
    "# import sys\n",
    "\n",
    "# print(\n",
    "#     f\"You have geemap version {geemap.__version__} running on Python {sys.version} and your operating system is {sys.platform}.\"\n",
    "# )"
   ]
  },
  {
   "cell_type": "markdown",
   "metadata": {},
   "source": [
    "Agora, se sua dúvida for com relação ao cadastro e geração de token no GEE, tente seguir os passos da documentação oficial (https://developers.google.com/earth-engine/apidocs/ee-authenticate) ou peça ajuda aos monitores.\n"
   ]
  },
  {
   "cell_type": "markdown",
   "metadata": {},
   "source": [
    "## Parte 1: Introdução\n"
   ]
  },
  {
   "cell_type": "markdown",
   "metadata": {},
   "source": [
    "### Selecionando área de estudo\n"
   ]
  },
  {
   "cell_type": "markdown",
   "metadata": {},
   "source": [
    "Vamos criar um mapa de exemplo.\n",
    "Escolhemos a Escola Politécnica da USP, em São Paulo, SP.\n",
    "\n",
    "Ao criar o mapa, tente se familiarizar com os controles de zoom e de posição oferecidos pela interface do geemap.\n"
   ]
  },
  {
   "cell_type": "code",
   "execution_count": null,
   "metadata": {},
   "outputs": [],
   "source": [
    "lat, lon = -23.5546721, -46.7318389\n",
    "\n",
    "# OBS: Aqui a latitude vem primeiro.\n",
    "my_map = geemap.Map(center=(lat, lon), zoom=14)\n",
    "my_map"
   ]
  },
  {
   "cell_type": "markdown",
   "metadata": {},
   "source": [
    "Em seguida, vamos criar um ponto com as coordenadas de latitude e longitude.\n"
   ]
  },
  {
   "cell_type": "code",
   "execution_count": null,
   "metadata": {},
   "outputs": [],
   "source": [
    "# OBS: Aqui a longitude é quem vem primeiro, cuidado para não inverter.\n",
    "poli_usp_point = ee.Geometry.Point(coords=[lon, lat], proj=\"EPSG:4326\")\n",
    "poli_usp_point"
   ]
  },
  {
   "cell_type": "markdown",
   "metadata": {},
   "source": [
    "### Adicionando uma coleção de imagens\n"
   ]
  },
  {
   "cell_type": "markdown",
   "metadata": {},
   "source": [
    "Existem inúmeros coleções de imagens disponíveis no GEE.\n",
    "Todos eles podem ser encontrados a partir da documentação oficial: https://developers.google.com/earth-engine/datasets\n"
   ]
  },
  {
   "cell_type": "markdown",
   "metadata": {},
   "source": [
    "Vamos começar trabalhando com a coleção de imagens Landsat 7\n"
   ]
  },
  {
   "cell_type": "code",
   "execution_count": null,
   "metadata": {},
   "outputs": [],
   "source": [
    "# Ref: https://developers.google.com/earth-engine/datasets/catalog/LANDSAT_LE07_C02_T1#description\n",
    "alias = \"LANDSAT/LE07/C02/T1\"\n",
    "\n",
    "# Load the image collection.\n",
    "dataset = ee.ImageCollection(alias)\n",
    "\n",
    "print(\"Você carregou uma ImageCollection com sucesso: \", dataset.args[\"id\"])"
   ]
  },
  {
   "cell_type": "markdown",
   "metadata": {},
   "source": [
    "Nós acabamos de importar um conjunto de imagens, porém não necessariamente vamos analisar todas elas, pois isso pode ser muito custoso computacionalmente.\n",
    "Vamos então filtrar as imagens para selecionar somente as informações que nos interessam.\n"
   ]
  },
  {
   "cell_type": "code",
   "execution_count": null,
   "metadata": {},
   "outputs": [],
   "source": [
    "# Filtra por datas\n",
    "## Qualquer imagem que não tenha sido capturada entre `start` e `opt_end` será removida.\n",
    "## A data `start` é inclusiva, enquanto `opt_end` é exclusiva.\n",
    "dataset = dataset.filterDate(start=\"1999-01-01\", opt_end=\"2002-12-31\")\n",
    "dataset"
   ]
  },
  {
   "cell_type": "code",
   "execution_count": null,
   "metadata": {},
   "outputs": [],
   "source": [
    "# Filtra por geometria\n",
    "## neste caso, vamos utilizar o ponto que criamos anteriormente.\n",
    "## Qualquer imagem que não contenha o ponto será removida.\n",
    "dataset = dataset.filterBounds(geometry=poli_usp_point)\n",
    "dataset"
   ]
  },
  {
   "cell_type": "code",
   "execution_count": null,
   "metadata": {},
   "outputs": [],
   "source": [
    "# OBS: Caso queira entender melhor o que cada método faz, você pode usar o help do Python. Exemplo:\n",
    "\n",
    "# help(dataset.filterBounds)"
   ]
  },
  {
   "cell_type": "code",
   "execution_count": null,
   "metadata": {},
   "outputs": [],
   "source": [
    "# Seleciona somente as bandas que queremos\n",
    "bandas = [\"B3\", \"B2\", \"B1\"]\n",
    "true_color321 = dataset.select(selectors=bandas)\n",
    "\n",
    "# Define parâmetros de visualização para as imagens\n",
    "true_color321_vis_params = {\n",
    "    \"min\": 0,\n",
    "    \"max\": 255,\n",
    "    \"gamma\": 1.4,\n",
    "}"
   ]
  },
  {
   "cell_type": "code",
   "execution_count": null,
   "metadata": {},
   "outputs": [],
   "source": [
    "# Temos várias imagens na coleção, vamos escolher apenas uma delas.\n",
    "## no caso, vamos selecionar a primeira imagem.\n",
    "# help(true_color321.first)\n",
    "\n",
    "image = true_color321.first()\n",
    "image"
   ]
  },
  {
   "cell_type": "markdown",
   "metadata": {},
   "source": [
    "Agora vamos visualizar a coleção de imagens filtrada no mapa que criamos anteriormente.\n"
   ]
  },
  {
   "cell_type": "code",
   "execution_count": null,
   "metadata": {},
   "outputs": [],
   "source": [
    "my_map.addLayer(\n",
    "    ee_object=image,\n",
    "    vis_params=true_color321_vis_params,\n",
    "    name=\"True Color (321)\",\n",
    "    shown=True,\n",
    "    opacity=0.6,\n",
    ")"
   ]
  },
  {
   "cell_type": "markdown",
   "metadata": {},
   "source": [
    "Para visualizar o mapa, podemos simplesmente chamar a variável que contém o mapa.\n"
   ]
  },
  {
   "cell_type": "code",
   "execution_count": null,
   "metadata": {},
   "outputs": [],
   "source": [
    "my_map"
   ]
  },
  {
   "cell_type": "markdown",
   "metadata": {},
   "source": [
    "### Recortando uma parte de uma imagem\n"
   ]
  },
  {
   "cell_type": "markdown",
   "metadata": {},
   "source": [
    "Vamos selecionar uma área de estudos para recortar a imagem.\n",
    "Podemos definir um retângulo como geometria de recorte.\n",
    "\n",
    "Porém, note que existem diversas outras geometrias disponíveis: https://developers.google.com/earth-engine/apidocs/ee-geometry\n"
   ]
  },
  {
   "cell_type": "code",
   "execution_count": null,
   "metadata": {},
   "outputs": [],
   "source": [
    "# primeiro cria um retângulo a partir das coordenadas das arestas\n",
    "bbox = ee.Geometry.BBox(west=-46.81, south=-23.4, east=-46.26, north=-23.8)"
   ]
  },
  {
   "cell_type": "code",
   "execution_count": null,
   "metadata": {},
   "outputs": [],
   "source": [
    "# agora recorta a imagem usando o retângulo\n",
    "clipped_image = image.clip(clip_geometry=bbox)"
   ]
  },
  {
   "cell_type": "code",
   "execution_count": null,
   "metadata": {},
   "outputs": [],
   "source": [
    "my_map.addLayer(\n",
    "    ee_object=clipped_image,\n",
    "    vis_params=true_color321_vis_params,\n",
    "    name=\"Clipped (321)\",\n",
    "    shown=True,\n",
    "    opacity=1,\n",
    ")"
   ]
  },
  {
   "cell_type": "code",
   "execution_count": null,
   "metadata": {},
   "outputs": [],
   "source": [
    "my_map"
   ]
  },
  {
   "cell_type": "markdown",
   "metadata": {},
   "source": [
    "#### Adicionou a mesma imagem várias vezes e não sabe como retirá-las? 😩\n"
   ]
  },
  {
   "cell_type": "markdown",
   "metadata": {},
   "source": [
    "Podemos acessar uma tupla com todas as imagens (layers) adicionadas ao mapa, veja como:\n"
   ]
  },
  {
   "cell_type": "code",
   "execution_count": null,
   "metadata": {},
   "outputs": [],
   "source": [
    "# my_map.layers"
   ]
  },
  {
   "cell_type": "markdown",
   "metadata": {},
   "source": [
    "Assim podemos remover uma imagem a partir de seu nome, basta utilizar o método `remove_layer`:\n"
   ]
  },
  {
   "cell_type": "code",
   "execution_count": null,
   "metadata": {},
   "outputs": [],
   "source": [
    "# help(my_map.remove_layer)"
   ]
  },
  {
   "cell_type": "code",
   "execution_count": null,
   "metadata": {},
   "outputs": [],
   "source": [
    "# my_map.remove_layer(rm_layer=\"True Color (321) Clipped\")"
   ]
  },
  {
   "cell_type": "markdown",
   "metadata": {},
   "source": [
    "### Calculando o valor médio dos pixels de uma banda\n"
   ]
  },
  {
   "cell_type": "markdown",
   "metadata": {},
   "source": [
    "Vamos aplicar uma função para calcular a média dos valores de uma banda em uma imagem.\n",
    "Para tanto, vamos utilizar uma estratégia de [data reduction](https://en.wikipedia.org/wiki/Data_reduction) através do método `reduceRegion`.\n"
   ]
  },
  {
   "cell_type": "code",
   "execution_count": null,
   "metadata": {},
   "outputs": [],
   "source": [
    "help(clipped_image.reduceRegion)"
   ]
  },
  {
   "cell_type": "markdown",
   "metadata": {},
   "source": [
    "O parâmetro `reducer` deve ser um algoritmo que a ser utilizado para calcular o valor desejado, no caso a média\n"
   ]
  },
  {
   "cell_type": "markdown",
   "metadata": {},
   "source": [
    "O parâmetro `maxPixels` define o limite máximo de pixels a serem processados. Isso é fundamental para evitar sobrecarregar a capacidade de processamento do ambiente de execução.\n"
   ]
  },
  {
   "cell_type": "code",
   "execution_count": null,
   "metadata": {},
   "outputs": [],
   "source": [
    "# Vamos calcular o valor médio do pixel para cada banda dentro da região retangular selecionada.\n",
    "valor_medio_pixel_rgb = clipped_image.reduceRegion(\n",
    "    reducer=ee.Reducer.mean(), maxPixels=1e9\n",
    ")\n",
    "\n",
    "print(valor_medio_pixel_rgb.getInfo())"
   ]
  },
  {
   "cell_type": "markdown",
   "metadata": {},
   "source": [
    "## Parte 2: Visualização de propriedades das imagens\n"
   ]
  },
  {
   "cell_type": "markdown",
   "metadata": {},
   "source": [
    "Certo, você superou a primeira parte do laboratório, agora vamos ver como visualizar as propriedades de imagens.\n"
   ]
  },
  {
   "cell_type": "markdown",
   "metadata": {},
   "source": [
    "Para começar, vamos importar uma outra coleção de imagens, ainda do LANDSAT 7, mas agora de um layer diferente\n"
   ]
  },
  {
   "cell_type": "code",
   "execution_count": null,
   "metadata": {},
   "outputs": [],
   "source": [
    "# Ref: https://developers.google.com/earth-engine/datasets/catalog/LANDSAT_LE07_C02_T1_L2\n",
    "landsat_le07_c02_t1_l2 = ee.ImageCollection(\"LANDSAT/LE07/C02/T1_L2\")\n",
    "landsat_le07_c02_t1_l2"
   ]
  },
  {
   "cell_type": "markdown",
   "metadata": {},
   "source": [
    "Também já vamos recortar a imagem para a área de estudo que definimos anteriormente.\n"
   ]
  },
  {
   "cell_type": "code",
   "execution_count": null,
   "metadata": {},
   "outputs": [],
   "source": [
    "landsat_le07_c02_t1_l2 = landsat_le07_c02_t1_l2.filterBounds(geometry=bbox)\n",
    "landsat_le07_c02_t1_l2"
   ]
  },
  {
   "cell_type": "markdown",
   "metadata": {},
   "source": [
    "Vamos gerar e visualizar um dicionário com as propriedades das imagens da coleção.\n"
   ]
  },
  {
   "cell_type": "code",
   "execution_count": null,
   "metadata": {},
   "outputs": [],
   "source": [
    "# Gerar um dicionário de metadados da coleção e armazená-lo em uma variável\n",
    "dict_landsat = landsat_le07_c02_t1_l2.toDictionary()\n",
    "dict_landsat"
   ]
  },
  {
   "cell_type": "markdown",
   "metadata": {},
   "source": [
    "Vamos imprimir o nome de todas as propriedades do dicionário, selecionando somente a primeira imagem da coleção.\n"
   ]
  },
  {
   "cell_type": "markdown",
   "metadata": {},
   "source": [
    "Vamos imprimir os metadados da primeira imagem da coleção.\n"
   ]
  },
  {
   "cell_type": "code",
   "execution_count": null,
   "metadata": {},
   "outputs": [],
   "source": [
    "landsat_le07_c02_t1_l2.first().toDictionary()"
   ]
  },
  {
   "cell_type": "markdown",
   "metadata": {},
   "source": [
    "Vale notar que, além dos metadados do ImageCollection, também temos os metadados de cada imagem individualmente.\n"
   ]
  },
  {
   "cell_type": "markdown",
   "metadata": {},
   "source": [
    "Agora a parte mais interessante, vamos calcular o percentual de nuvens da primeira imagem da coleção.\n"
   ]
  },
  {
   "cell_type": "code",
   "execution_count": null,
   "metadata": {},
   "outputs": [],
   "source": [
    "# Display the cloud cover percentage of the first image in the collection.\n",
    "cloud_cover_percentage = (\n",
    "    landsat_le07_c02_t1_l2.first().get(\"CLOUD_COVER\").getInfo() / 100\n",
    ")  # varies from 0 to 1\n",
    "\n",
    "print(\n",
    "    f\"Cloud cover of the first image in the collection: {cloud_cover_percentage:.2%}\",\n",
    ")"
   ]
  },
  {
   "cell_type": "markdown",
   "metadata": {},
   "source": [
    "### Trabalhando com metadados\n"
   ]
  },
  {
   "cell_type": "markdown",
   "metadata": {},
   "source": [
    "#### Seleção de imagens em uma coleção utilizando informações dos Metadados\n"
   ]
  },
  {
   "cell_type": "markdown",
   "metadata": {},
   "source": [
    "Agora vamos utilizar os meta dados para selecionar imagens de uma coleção, o que pode ser particularmente interessante quando queremos trabalhar com imagens sem nuvens.\n"
   ]
  },
  {
   "cell_type": "markdown",
   "metadata": {},
   "source": [
    "Vamos começar filtrando as imagens que possuem menos de 40% de cobertura de nuvens.\n"
   ]
  },
  {
   "cell_type": "code",
   "execution_count": null,
   "metadata": {},
   "outputs": [],
   "source": [
    "# Select only the images with cloud cover less than the desired value.\n",
    "limit = 40\n",
    "image_col_no_clouds = landsat_le07_c02_t1_l2.filterMetadata(\n",
    "    name=\"CLOUD_COVER\", operator=\"less_than\", value=limit\n",
    ")"
   ]
  },
  {
   "cell_type": "markdown",
   "metadata": {},
   "source": [
    "Podemos fazer uma conta rápida de quantos imagens restaram na coleção.\n"
   ]
  },
  {
   "cell_type": "code",
   "execution_count": null,
   "metadata": {},
   "outputs": [],
   "source": [
    "print(\n",
    "    f\"Número total de imagens na coleção com cobertura por nuvens \"\n",
    "    + f\"menor que o desejado: {image_col_no_clouds.size().getInfo()} imagens\",\n",
    ")"
   ]
  },
  {
   "cell_type": "markdown",
   "metadata": {},
   "source": [
    "Vamos filtrar para um período de datas específico.\n"
   ]
  },
  {
   "cell_type": "code",
   "execution_count": null,
   "metadata": {},
   "outputs": [],
   "source": [
    "# Select images within a specified date range.\n",
    "image_col_2019 = image_col_no_clouds.filterDate(\n",
    "    start=\"2019-01-01\", opt_end=\"2020-01-01\"\n",
    ")"
   ]
  },
  {
   "cell_type": "markdown",
   "metadata": {},
   "source": [
    "Vamos contar quantas imagens restaram na coleção.\n"
   ]
  },
  {
   "cell_type": "code",
   "execution_count": null,
   "metadata": {},
   "outputs": [],
   "source": [
    "# Print collection details for the selected date range to the console.\n",
    "print(f\"Coleção de imagens no ano de 2019: {image_col_2019.size().getInfo()} imagens\")"
   ]
  },
  {
   "cell_type": "markdown",
   "metadata": {},
   "source": [
    "Caso você prefira, pode converter a coleção de imagens, que é um objeto da classe `ee.ImageCollection`, para uma lista de imagens, sendo cada uma um objeto da classe `ee.Image`.\n"
   ]
  },
  {
   "cell_type": "code",
   "execution_count": null,
   "metadata": {},
   "outputs": [],
   "source": [
    "# Transform the collection of images for the selected date range into a list.\n",
    "lst_image_col_2019 = image_col_2019.toList(image_col_2019.size())\n",
    "lst_image_col_2019"
   ]
  },
  {
   "cell_type": "markdown",
   "metadata": {},
   "source": [
    "#### Manipulando datas nas imagens\n"
   ]
  },
  {
   "cell_type": "markdown",
   "metadata": {},
   "source": [
    "Uma outra forma de selecionarmos a primeira imagem da coleção é acessando o primeiro elemento da lista de imagens.\n",
    "Vale lembrar que em Python os índices começam em 0, então vamos pegar a image de índice 0.\n"
   ]
  },
  {
   "cell_type": "code",
   "execution_count": null,
   "metadata": {},
   "outputs": [],
   "source": [
    "# Extract the first image from the list.\n",
    "primeira_imagem = ee.Image(lst_image_col_2019.get(0))\n",
    "primeira_imagem"
   ]
  },
  {
   "cell_type": "markdown",
   "metadata": {},
   "source": [
    "Podemos utilizar o método date() para acessar a data de aquisição da primeira imagem.\n"
   ]
  },
  {
   "cell_type": "code",
   "execution_count": null,
   "metadata": {},
   "outputs": [],
   "source": [
    "primeira_imagem.date()"
   ]
  },
  {
   "cell_type": "markdown",
   "metadata": {},
   "source": [
    "Vamos fazer o mesmo para a segunda imagem da coleção.\n"
   ]
  },
  {
   "cell_type": "code",
   "execution_count": null,
   "metadata": {},
   "outputs": [],
   "source": [
    "# Extract the second image from the list.\n",
    "segunda_imagem = ee.Image(lst_image_col_2019.get(1))\n",
    "segunda_imagem"
   ]
  },
  {
   "cell_type": "markdown",
   "metadata": {},
   "source": [
    "Porém, dessa vez vamos utilizar a chave \"DATE_ACQUIRED\" para acessar a data de aquisição da imagem diretamente do dicionário de metadados. Isso é possível pois a chave \"DATE_ACQUIRED\" é uma das propriedades da imagem. Veja:\n"
   ]
  },
  {
   "cell_type": "code",
   "execution_count": null,
   "metadata": {},
   "outputs": [],
   "source": [
    "# Using the image property directly, print the acquisition date of the second image to the console.\n",
    "print(\n",
    "    \"Data de aquisição da segunda imagem: \",\n",
    "    segunda_imagem.get(\"DATE_ACQUIRED\").getInfo(),\n",
    ")"
   ]
  },
  {
   "cell_type": "markdown",
   "metadata": {},
   "source": [
    "#### Bandas, projeção cartográfica e resolução espacial\n"
   ]
  },
  {
   "cell_type": "markdown",
   "metadata": {},
   "source": [
    "Uma lista com os nomes de todas as bandas de uma imagem pode ser obtida com o uso do método `bandNames()`\n"
   ]
  },
  {
   "cell_type": "code",
   "execution_count": null,
   "metadata": {},
   "outputs": [],
   "source": [
    "image_col_2019.first().bandNames()"
   ]
  },
  {
   "cell_type": "markdown",
   "metadata": {},
   "source": [
    "A projeção cartográfica das bandas de uma imagem devem ser retornadas com o uso do método `projection()`\n"
   ]
  },
  {
   "cell_type": "code",
   "execution_count": null,
   "metadata": {},
   "outputs": [],
   "source": [
    "projecao_b1 = image_col_2019.first().select(\"SR_B1\").projection()\n",
    "projecao_b1"
   ]
  },
  {
   "cell_type": "markdown",
   "metadata": {},
   "source": [
    "Podemos consultar a resolução da banda 1 através do seguinte método:\n"
   ]
  },
  {
   "cell_type": "code",
   "execution_count": null,
   "metadata": {},
   "outputs": [],
   "source": [
    "print(\"Scale in meters:\", ee.Projection.nominalScale(projecao_b1).getInfo())"
   ]
  },
  {
   "cell_type": "markdown",
   "metadata": {},
   "source": [
    "### Custom functions\n"
   ]
  },
  {
   "cell_type": "markdown",
   "metadata": {},
   "source": [
    "O Google Colaboratory (na verdade, o jupyter) permite que você crie funções personalizadas em diferentes células e as utilize em outras células do seu notebook.\n"
   ]
  },
  {
   "cell_type": "markdown",
   "metadata": {},
   "source": [
    "Abaixo vamos definir duas funções de exemplo, atente-se à documentação das funções.\n"
   ]
  },
  {
   "cell_type": "code",
   "execution_count": null,
   "metadata": {},
   "outputs": [],
   "source": [
    "def devolve_layer_com_data(imagem):\n",
    "    \"\"\"Adicione uma banda à imagem com o valor numérico da data como constante\n",
    "    nos pixels. A banda é chamada de 'data_numerica'.\n",
    "\n",
    "    Parameters\n",
    "    ----------\n",
    "    imagem : ee.Image\n",
    "        Uma imagem do GEE.\n",
    "\n",
    "    Returns\n",
    "    -------\n",
    "    ee.Image\n",
    "        Uma imagem do GEE com uma nova banda chamada 'data_numerica'.\n",
    "    \"\"\"\n",
    "    return imagem.addBands(\n",
    "        ee.Image(imagem.get(\"system:time_start\")).rename(\"data_numerica\")\n",
    "    )\n",
    "\n",
    "\n",
    "def devolve_data(imagem):\n",
    "    \"\"\"Extrai a data da imagem. A data é retornada como uma string.\n",
    "\n",
    "    Parameters\n",
    "    ----------\n",
    "    imagem : ee.Image\n",
    "        Uma imagem do GEE.\n",
    "\n",
    "    Returns\n",
    "    -------\n",
    "    string\n",
    "        Uma string representando a data da imagem.\n",
    "    \"\"\"\n",
    "    return ee.Image(imagem).date()"
   ]
  },
  {
   "cell_type": "markdown",
   "metadata": {},
   "source": [
    "Agora podemos aplicar as funções que definimos anteriormente em qualquer imagem da coleção.\n"
   ]
  },
  {
   "cell_type": "markdown",
   "metadata": {},
   "source": [
    "Vamos utilizar o método map() para aplicar a função `get_date()` em todas as imagens da coleção.\n"
   ]
  },
  {
   "cell_type": "code",
   "execution_count": null,
   "metadata": {},
   "outputs": [],
   "source": [
    "datas = image_col_2019.map(devolve_layer_com_data)\n",
    "\n",
    "# Coleção de imagens com o valor numérico das datas em uma banda adicionada.\n",
    "datas"
   ]
  },
  {
   "cell_type": "markdown",
   "metadata": {},
   "source": [
    "O código acima retorna uma ImageCollection, pois o argumento passado para o método map() é também uma ImageCollection.\n",
    "Porém, se aplicarmos o map() sobre uma lista, obteremos uma lista como resultado.\n"
   ]
  },
  {
   "cell_type": "code",
   "execution_count": null,
   "metadata": {},
   "outputs": [],
   "source": [
    "lst_datas = lst_image_col_2019.map(devolve_data)\n",
    "\n",
    "# Lista com as datas retiradas das imagens na lista de imagens.\n",
    "lst_datas"
   ]
  },
  {
   "cell_type": "markdown",
   "metadata": {},
   "source": [
    "## Parte 3: Indo além\n"
   ]
  },
  {
   "cell_type": "markdown",
   "metadata": {},
   "source": [
    "### Extraindo valores com o reduce\n",
    "\n",
    "Essa função será apresentada no próximo laboratório, mas caso queira já entender seu funcionamento\n"
   ]
  },
  {
   "cell_type": "code",
   "execution_count": null,
   "metadata": {},
   "outputs": [],
   "source": [
    "# Extract the maximum date from the period.\n",
    "maior_data = lst_datas.reduce(ee.Reducer.max())\n",
    "maior_data"
   ]
  },
  {
   "cell_type": "markdown",
   "metadata": {},
   "source": [
    "O valor da data é um inteiro que representa o número de milissegundos desde a meia-noite de 1º de janeiro de 1970.\n",
    "Podemos converter esse valor para uma data legível utilizando o método `ee.Date()` e seu submétodo `format()`.\n"
   ]
  },
  {
   "cell_type": "code",
   "execution_count": null,
   "metadata": {},
   "outputs": [],
   "source": [
    "ee.Date(maior_data).format(\"YYYY-MM-dd\").getInfo()"
   ]
  },
  {
   "cell_type": "markdown",
   "metadata": {},
   "source": [
    "Se antes calculamos a data máxima, podemos facilmente calcular a data mínima também\n"
   ]
  },
  {
   "cell_type": "code",
   "execution_count": null,
   "metadata": {},
   "outputs": [],
   "source": [
    "menor_data = lst_datas.reduce(ee.Reducer.min())\n",
    "ee.Date(menor_data).format(\"YYYY-MM-dd\").getInfo()"
   ]
  },
  {
   "cell_type": "markdown",
   "metadata": {},
   "source": [
    "Também podemo contar o número de imagens na coleção\n"
   ]
  },
  {
   "cell_type": "code",
   "execution_count": null,
   "metadata": {},
   "outputs": [],
   "source": [
    "contagem_images = datas.size().getInfo()\n",
    "contagem_images"
   ]
  },
  {
   "cell_type": "markdown",
   "metadata": {},
   "source": [
    "### Operações aritméticas no GEE\n"
   ]
  },
  {
   "cell_type": "markdown",
   "metadata": {},
   "source": [
    "Podemos utilizar o método `diference()` para calcular a diferença entre duas datas.\n",
    "Neste caso, vamos calcular a diferença entre a data máxima e a data mínima do conjunto de imagens.\n"
   ]
  },
  {
   "cell_type": "code",
   "execution_count": null,
   "metadata": {},
   "outputs": [],
   "source": [
    "# Calculate the total number of days between the first and last acquisitions in the period.\n",
    "days_between = ee.Date(maior_data).difference(ee.Date(menor_data), \"day\")\n",
    "days_between"
   ]
  },
  {
   "cell_type": "markdown",
   "metadata": {},
   "source": [
    "O número acima representa o número de dias entre a primeira e a última aquisição de imagem da coleção\n"
   ]
  },
  {
   "cell_type": "markdown",
   "metadata": {},
   "source": [
    "Agora vamos calcular o a média de dias entre as aquisições de imagens da coleção. Para tanto, vamos dividir o número de dias entre a primeira e a última aquisição pelo número de imagens na coleção. Utilizaremos o método `divide()` para isso.\n"
   ]
  },
  {
   "cell_type": "code",
   "execution_count": null,
   "metadata": {},
   "outputs": [],
   "source": [
    "average_days_between = days_between.divide(contagem_images - 1)\n",
    "average_days_between\n",
    "\n",
    "# q: por que subtrair 1?\n",
    "# a: porque a diferença entre a primeira e a última imagem é igual ao número de imagens menos 1."
   ]
  },
  {
   "cell_type": "markdown",
   "metadata": {},
   "source": [
    "### Tipos armazenados nas bandas e resolução radiométrica\n"
   ]
  },
  {
   "cell_type": "markdown",
   "metadata": {},
   "source": [
    "O método `bandTypes()` retorna um dicionário que contém o tipo de dado de cada banda de uma imagem.\n",
    "\n",
    "No nosso caso, vamos selecionar somente a primeira imagem da coleção, por isso o uso do método `first()` antes da chamada de `bandTypes()`.\n"
   ]
  },
  {
   "cell_type": "code",
   "execution_count": null,
   "metadata": {},
   "outputs": [],
   "source": [
    "image_col_2019.filterBounds(bbox).first().bandTypes()"
   ]
  },
  {
   "cell_type": "markdown",
   "metadata": {},
   "source": [
    "O dicionário impresso no console mostra em `max` o maior número que pode ser registrado em um pixel e, de forma similar, em `min` está o valor mínimo.\n",
    "\n",
    "Além disso, ao lado do nome da banda, o tipo de dado que cada pixel da imagem armazena é determinado, por exemplo um tipo inteiro de 16 bits.\n",
    "\n",
    "Através dessas informações, pode-se determinar a resolução radiométrica da banda\n"
   ]
  },
  {
   "cell_type": "markdown",
   "metadata": {},
   "source": [
    "### Sugestões de exercícios\n"
   ]
  },
  {
   "cell_type": "markdown",
   "metadata": {},
   "source": [
    "Com intuito de ir ainda mais além, sugere-se a realização dos seguintes treinos:\n",
    "\n",
    "- Adicionar outra coleção de imagens do Landsat (Landsat 8)\n",
    "- Importar coleção de imagens do Sentinel-2\n"
   ]
  },
  {
   "cell_type": "markdown",
   "metadata": {},
   "source": [
    "## Atividade\n"
   ]
  },
  {
   "cell_type": "markdown",
   "metadata": {},
   "source": [
    "Para finalizar, vamos fazer um exercício de fixação. Responda às perguntas estabelecidas abaixo, tome cuidado para não alterar o nome das variáveis daqui pra frente, principalmente a variável `MY_FINAL_RESULT`\n"
   ]
  },
  {
   "cell_type": "code",
   "execution_count": null,
   "metadata": {},
   "outputs": [],
   "source": [
    "p1 = \"1 - Qual o seu nome?\"\n",
    "r1 = str(\"\")  # preencha com uma string, exemplo: str(\"Meu nome\")\n",
    "\n",
    "p2 = \"2 - Qual o seu número USP?\"\n",
    "r2 = int()  # preencha com um número inteiro, ex: int(12345678)\n",
    "\n",
    "p3 = \"3 - Qual é o valor médio de pixel na banda 2 da primeira imagem da coleção Landsat?\"\n",
    "r3 = float()  # preencha com um número real\n",
    "\n",
    "p4 = f\"4 - Quantas imagens restaram na coleção após filtrar aquelas com menos de 40% de cobertura de nuvens?\"\n",
    "r4 = int()  # preencha com um número inteiro\n",
    "\n",
    "p5 = \"5 - Qual é a resolução espacial da banda 1 da primeira imagem da coleção landsat_le07_c02_t1_l2?\"\n",
    "r5 = float()  # preencha com um número real\n",
    "\n",
    "p6 = \"6 - Qual é a diferença em dias entre a data de aquisição da primeira e da última imagem na coleção de 2019?\"\n",
    "r6 = int()  # preencha com um número inteiro\n",
    "\n",
    "p7 = \"7 - Qual a data de aquisição da 3ª imagem da coleção landsat_le07_c02_t1_l2?\"\n",
    "\n",
    "r7 = str(\"\")  # preencha com uma string formato AAAA-MM-DD\n",
    "\n",
    "p8 = \"8- Qual a resolução radiométrica da banda 1 da 1ª imagem da coleção Landsat?\"\n",
    "r8 = float()  # preencha com um número real"
   ]
  },
  {
   "cell_type": "code",
   "execution_count": null,
   "metadata": {},
   "outputs": [],
   "source": [
    "MY_FINAL_RESULT = {\n",
    "    \"p1\": r1,\n",
    "    \"p2\": r2,\n",
    "    \"p3\": r3,\n",
    "    \"p4\": r4,\n",
    "    \"p5\": r5,\n",
    "    \"p6\": r6,\n",
    "    \"p7\": r7,\n",
    "    \"p8\": r8,\n",
    "}\n",
    "\n",
    "MY_FINAL_RESULT"
   ]
  },
  {
   "cell_type": "markdown",
   "metadata": {},
   "source": [
    "### Antes de ir, verifique se está tudo certo com a sua resolução:\n"
   ]
  },
  {
   "cell_type": "code",
   "execution_count": null,
   "metadata": {},
   "outputs": [],
   "source": [
    "class ValidaResposta:\n",
    "    \"\"\"Classe que vai receber o dicionario MY_FINAL_RESULT e validar se as\n",
    "    respostas têm o formato correto.\n",
    "    \"\"\"\n",
    "\n",
    "    def __init__(self, dicionario_respostas):\n",
    "        self.dicionario_respostas = dicionario_respostas\n",
    "        self.perguntas_types = {\n",
    "            \"p1\": str,\n",
    "            \"p2\": int,\n",
    "            \"p3\": float,\n",
    "            \"p4\": int,\n",
    "            \"p5\": float,\n",
    "            \"p6\": int,\n",
    "            \"p7\": str,\n",
    "            \"p8\": float,\n",
    "        }\n",
    "\n",
    "    def valida_respostas(self):\n",
    "        \"\"\"Valida se as respostas estão no formato correto e não estão vazias.\n",
    "\n",
    "        Returns\n",
    "        -------\n",
    "        bool\n",
    "            True se todas as respostas estão no formato correto e não estão vazias.\n",
    "            False se alguma resposta não está no formato correto ou está vazia.\n",
    "        \"\"\"\n",
    "        for pergunta, resposta in self.dicionario_respostas.items():\n",
    "            expected_type = self.perguntas_types.get(pergunta)\n",
    "            if (\n",
    "                expected_type is None\n",
    "                or not isinstance(resposta, expected_type)\n",
    "                or (\n",
    "                    isinstance(resposta, str)\n",
    "                    and resposta in [\"Meu Nome\", \"\", \"Minha resposta\"]\n",
    "                )\n",
    "            ):\n",
    "                print(\n",
    "                    f\"A resposta para a {pergunta} não está no formato correto ou está vazia.\"\n",
    "                )\n",
    "                return False\n",
    "\n",
    "        return True\n",
    "\n",
    "\n",
    "validador = ValidaResposta(MY_FINAL_RESULT)\n",
    "if validador.valida_respostas():\n",
    "    print(\">>> Todas as respostas estão no formato correto, parabéns.\\n\")\n",
    "else:\n",
    "    raise ValueError(\"Alguma resposta não está no formato correto ou está vazia.\")"
   ]
  },
  {
   "cell_type": "markdown",
   "metadata": {},
   "source": [
    "### Quer levar esse notebook com você? 📚\n"
   ]
  },
  {
   "cell_type": "code",
   "execution_count": null,
   "metadata": {},
   "outputs": [],
   "source": [
    "# !pip install nbconvert"
   ]
  },
  {
   "cell_type": "code",
   "execution_count": null,
   "metadata": {},
   "outputs": [],
   "source": [
    "!jupyter nbconvert --to html \"lab1.ipynb\" --template classic"
   ]
  }
 ],
 "metadata": {
  "kernelspec": {
   "display_name": ".venv",
   "language": "python",
   "name": "python3"
  },
  "language_info": {
   "codemirror_mode": {
    "name": "ipython",
    "version": 3
   },
   "file_extension": ".py",
   "mimetype": "text/x-python",
   "name": "python",
   "nbconvert_exporter": "python",
   "pygments_lexer": "ipython3",
   "version": "3.10.9"
  },
  "orig_nbformat": 4
 },
 "nbformat": 4,
 "nbformat_minor": 2
}
